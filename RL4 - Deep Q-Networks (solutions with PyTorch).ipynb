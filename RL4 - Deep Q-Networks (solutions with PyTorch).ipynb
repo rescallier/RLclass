{
 "cells": [
  {
   "cell_type": "markdown",
   "metadata": {},
   "source": [
    "**Class 4: Deep Q Networks.**\n",
    "\n",
    "1. <a href=\"#sec1\">Environments</a>\n",
    "    1. <a href=\"#sec1.1\">Cartpole</a>\n",
    "    2. <a href=\"#sec1.2\">Cartpole swing-up</a>\n",
    "    3. <a href=\"#sec1.3\">Pong</a>\n",
    "2. <a href=\"#sec2\">Value Iteration as a sequence of Supervized Learning problems</a>\n",
    "3. <a href=\"#sec3\">Experience Replay</a>\n",
    "4. <a href=\"#sec4\">A deep Q-network</a>\n",
    "5. <a href=\"#sec5\">Making DQN more efficient</a>\n",
    "    1. <a href=\"#sec5.1\">Changing the optimizer\n",
    "    2. <a href=\"#sec5.2\">Several gradient steps\n",
    "    3. <a href=\"#sec5.3\">Target network</a>\n",
    "    4. <a href=\"#sec5.4\">Error clipping</a>\n",
    "6. <a href=\"#sec6\">Metrics</a>\n",
    "7. <a href=\"#sec7\">DQN on image-based tasks</a>\n",
    "8. <a href=\"#sec8\">Going further</a>\n",
    "\n",
    "Let's start with this quote:\n",
    "\n",
    "> The idea that we learn by interacting with our environment is probably the first to occur to us when we think about the nature of learning. When an infant plays, waves its arms, or looks about, it has no explicit teacher, but it does have a direct sensorimotor connection to its environment. Exercising this connection produces a wealth of information about cause and effect, about the consequences of actions, and about what to do in order to achieve goals. Throughout our lives, such interactions are undoubtedly a major source of knowledge about our environment and ourselves. Whether we are learning to drive a car or to hold a conversation, we are acutely aware of how our environment responds to what we do, and we seek to influence what happens through our behavior. Learning from interaction is a foundational idea underlying nearly all theories of learning and intelligence. (Richard S. Sutton)"
   ]
  },
  {
   "cell_type": "markdown",
   "metadata": {},
   "source": [
    "# <a id=\"sec1\"></a> Environments\n",
    "\n",
    "In this session, we will work with three different environments:\n",
    "- CartPole\n",
    "- A modified version of CartPole\n",
    "- Pong"
   ]
  },
  {
   "cell_type": "code",
   "execution_count": 2,
   "metadata": {},
   "outputs": [],
   "source": [
    "import gym\n",
    "from gym import logger\n",
    "import numpy as np\n",
    "%matplotlib inline\n",
    "import matplotlib.pyplot as plt\n",
    "logger.set_level(gym.logger.DISABLED)"
   ]
  },
  {
   "cell_type": "markdown",
   "metadata": {},
   "source": [
    "## <a id=sec1.1></a>CartPole"
   ]
  },
  {
   "cell_type": "code",
   "execution_count": 3,
   "metadata": {},
   "outputs": [],
   "source": [
    "cartpole = gym.make('CartPole-v1')"
   ]
  },
  {
   "cell_type": "markdown",
   "metadata": {},
   "source": [
    "From the [OpenAI Gym website](https://gym.openai.com/envs/CartPole-v0/)\n",
    "\n",
    "> A pole is attached by an un-actuated joint to a cart, which moves along a frictionless track. The system is controlled by applying a force of +1 or -1 to the cart. The pendulum starts upright, and the goal is to prevent it from falling over. A reward of +1 is provided for every timestep that the pole remains upright. The episode ends when the pole is more than 15 degrees from vertical, or the cart moves more than 2.4 units from the center."
   ]
  },
  {
   "cell_type": "markdown",
   "metadata": {},
   "source": [
    "Beware that, as most Gym environments, CartPole has a maximum number of steps before necessarily returning `done=True`."
   ]
  },
  {
   "cell_type": "code",
   "execution_count": 4,
   "metadata": {},
   "outputs": [
    {
     "data": {
      "text/plain": [
       "500"
      ]
     },
     "execution_count": 4,
     "metadata": {},
     "output_type": "execute_result"
    }
   ],
   "source": [
    "cartpole._max_episode_steps"
   ]
  },
  {
   "cell_type": "markdown",
   "metadata": {},
   "source": [
    "The cartpole is represented by a state $s = (x, \\dot{x}, \\theta, \\dot{\\theta})$ with :\n",
    "  - $x$ the position of the cartpole along the x-axis\n",
    "  - $\\theta$ the angle of the pole"
   ]
  },
  {
   "cell_type": "code",
   "execution_count": 5,
   "metadata": {},
   "outputs": [
    {
     "name": "stdout",
     "output_type": "stream",
     "text": [
      "Discrete(2)\n",
      "Box(4,)\n",
      "{'render.modes': ['human', 'rgb_array'], 'video.frames_per_second': 50}\n"
     ]
    }
   ],
   "source": [
    "print(cartpole.action_space)\n",
    "print(cartpole.observation_space)\n",
    "print(cartpole.env.metadata)"
   ]
  },
  {
   "cell_type": "code",
   "execution_count": 5,
   "metadata": {},
   "outputs": [
    {
     "name": "stdout",
     "output_type": "stream",
     "text": [
      "20\n"
     ]
    }
   ],
   "source": [
    "x = cartpole.reset()\n",
    "cartpole.render()\n",
    "for i in range(1000):\n",
    "    _, _, d, _ = cartpole.step(np.random.randint(2))\n",
    "    cartpole.render()\n",
    "    if d:\n",
    "        print(i)\n",
    "        break\n",
    "\n",
    "cartpole.close()"
   ]
  },
  {
   "cell_type": "markdown",
   "metadata": {},
   "source": [
    "## <a id=sec1.2></a>CartPole Swing-up\n",
    "\n",
    "The idea here is to keep the same environment, but instead of learning how to stabilize it around the unstable equilibrium point, we'd like to learn to swing it up. Here are the changes:\n",
    "- `reset` now puts the pole pointing down. The initial state is $(0,0,\\pi,0)$ plus a vector of four uniformly random values in [-0.05,0.05].\n",
    "- `step` now returns `done=True` when the cart leaves the $x\\in [-2.4,2.4]$ interval or when the pole swings faster than $4\\pi$ radians per second.\n",
    "- the reward is still +1 for keeping the pole within 12 degrees of the vertical, it is 0 for all other time steps and -10 for swinging too fast or exiting the screen."
   ]
  },
  {
   "cell_type": "code",
   "execution_count": 6,
   "metadata": {},
   "outputs": [],
   "source": [
    "class CartPoleSwingUp(gym.Wrapper):\n",
    "    def __init__(self, env, **kwargs):\n",
    "        super(CartPoleSwingUp, self).__init__(env, **kwargs)\n",
    "        self.theta_dot_threshold = 4*np.pi\n",
    "\n",
    "    def reset(self):\n",
    "        self.env.env.state = [0, 0, np.pi, 0] + super().reset()\n",
    "        #self.state = [0,0,np.pi,0] + self.np_random.uniform(low=-0.05, high=0.05, size=(4,))\n",
    "        self.env.env.steps_beyond_done = None\n",
    "        return np.array(self.env.env.state)\n",
    "\n",
    "    def step(self, action):\n",
    "        state, reward, done, _ = super().step(action)\n",
    "        #self.state = state\n",
    "        x, x_dot, theta, theta_dot = state\n",
    "        theta = (theta+np.pi)%(2*np.pi)-np.pi\n",
    "        self.env.env.state = [x, x_dot, theta, theta_dot]\n",
    "        \n",
    "        done = x < -self.x_threshold \\\n",
    "               or x > self.x_threshold \\\n",
    "               or theta_dot < -self.theta_dot_threshold \\\n",
    "               or theta_dot > self.theta_dot_threshold\n",
    "        \n",
    "        if done:\n",
    "            # game over\n",
    "            reward = -10.\n",
    "            if self.steps_beyond_done is None:\n",
    "                self.steps_beyond_done = 0\n",
    "            else:\n",
    "                logger.warn(\"You are calling 'step()' even though this environment has already returned done = True. You should always call 'reset()' once you receive 'done = True' -- any further steps are undefined behavior.\")\n",
    "                self.steps_beyond_done += 1\n",
    "        else:\n",
    "            if -self.theta_threshold_radians < theta and theta < self.theta_threshold_radians:\n",
    "                # pole upright\n",
    "                reward = 1.\n",
    "            else:\n",
    "                # pole swinging\n",
    "                reward = 0.\n",
    "\n",
    "        return np.array([x, x_dot, theta, theta_dot]), reward, done, {}"
   ]
  },
  {
   "cell_type": "code",
   "execution_count": 7,
   "metadata": {},
   "outputs": [],
   "source": [
    "swingup = CartPoleSwingUp(gym.make('CartPole-v1'))"
   ]
  },
  {
   "cell_type": "code",
   "execution_count": 8,
   "metadata": {
    "scrolled": false
   },
   "outputs": [
    {
     "name": "stdout",
     "output_type": "stream",
     "text": [
      "94\n"
     ]
    }
   ],
   "source": [
    "x = swingup.reset()\n",
    "swingup.render()\n",
    "\n",
    "for i in range(1000):\n",
    "    _, _, d, _ = swingup.step(np.random.randint(2))\n",
    "    swingup.render()\n",
    "    if d:\n",
    "        print(i)\n",
    "        break\n",
    "\n",
    "swingup.close()"
   ]
  },
  {
   "cell_type": "markdown",
   "metadata": {},
   "source": [
    "## <a id=sec1.3></a>Pong\n",
    "\n",
    "Let's build an agent that learns to play Pong, one of the [Atari games](https://github.com/openai/gym/blob/master/gym/envs/atari/atari_env.py) in Gym (originally in the [Arcade Learning Environment](https://github.com/mgbellemare/Arcade-Learning-Environment)). You might want to try different games later on (like the popular Breakout game for instance)."
   ]
  },
  {
   "cell_type": "code",
   "execution_count": null,
   "metadata": {},
   "outputs": [],
   "source": [
    "pong = gym.make('Pong-v4')"
   ]
  },
  {
   "cell_type": "markdown",
   "metadata": {},
   "source": [
    "Here is the environment's description.\n",
    "> Maximize your score in the Atari 2600 game Pong. In this environment, the observation is an RGB image of the screen, which is an array of shape (210, 160, 3). Each action is repeatedly performed for a duration of k frames, where k is uniformly sampled from $\\{2, 3, 4\\}$."
   ]
  },
  {
   "cell_type": "code",
   "execution_count": null,
   "metadata": {},
   "outputs": [],
   "source": [
    "print(pong.observation_space)\n",
    "print(pong.observation_space.shape)\n",
    "print(np.min(pong.observation_space.low))\n",
    "print(np.max(pong.observation_space.high))\n",
    "print(pong.action_space)\n",
    "#help(env.observation_space)"
   ]
  },
  {
   "cell_type": "code",
   "execution_count": null,
   "metadata": {},
   "outputs": [],
   "source": [
    "x = pong.reset()\n",
    "plt.imshow(x)\n",
    "plt.show()"
   ]
  },
  {
   "cell_type": "markdown",
   "metadata": {},
   "source": [
    "<div class=\"alert alert-warning\">\n",
    "\n",
    "**Exercice:** What is the number of possible states? Why is this not an MDP? What would one need to turn this back into an MDP?\n",
    "</div>"
   ]
  },
  {
   "cell_type": "markdown",
   "metadata": {},
   "source": [
    "<div class=\"alert alert-danger\">\n",
    "    <a href=\"#Pong-theory\" data-toggle=\"collapse\"><b>Answers:</b></a><br>\n",
    "<div id=\"Pong-theory\" class=\"collapse\">\n",
    "\n",
    "One frame is a $210\\times 160$ RGB image with a 256 color palette, so the set of all possible frames has size $256^{210 \\times 160 \\times 3} \\sim 10^{242579}$. That's a little too many for an efficient enumeration. Of course, most of the possible images will never occur in a Breakout game and the true state space is actually a much smaller subset of the full set of possible images. Nevertheless, unless we provide a large engineering effort in describing the state space with few variables (which would be contradictory of our goal of a \"human-level\" AI) we will need to automatically discover some structure in the state sampled data.\n",
    "\n",
    "This is not an MDP because the transition dynamics do not respect Markov's property. The probability of transitioning from $s_t$ to $s_{t+1}$ is *not* independent of previous states. The problem here is that a single frame of the game does not reflect the velocity of the ball.\n",
    "\n",
    "To recover Markov's property one could simply stack a few frames together in the state space.\n",
    "</div>\n",
    "</div>"
   ]
  },
  {
   "cell_type": "markdown",
   "metadata": {},
   "source": [
    "There are 18 buttons on the Atari controller. However not all games use all buttons. Our interface to Pong specifies 6 possible actions:\n",
    "- 0 NOOP (no operation)\n",
    "- 1 FIRE (press fire button, doesn't do anything in Pong)\n",
    "- 2 RIGHT (actually moves the paddle up in Pong)\n",
    "- 3 LEFT (actually moves the paddle left in Pong)\n",
    "- 4 UP (moves the paddle upwards)\n",
    "- 5 DOWN (moves the paddle downwards)\n",
    "\n",
    "The available actions in Pong go up to the 6th action for naming consistency (UP and DOWN), but the four first actions are not really useful.\n",
    "\n",
    "Also, for an unknown reason, the game does not start until the 20th frame (but always starts automatically, pressing FIRE does not change anything).\n",
    "\n",
    "The frame rate is 60Hz.\n",
    "\n",
    "To avoid confusion between the 6 actions allowed by Gym, let's build a wrapper around our environment, with only 2 possible actions (\"0\" for UP and \"1\" for DOWN) and a downscaled observation space. Unless you're curious and want to dig in the code, you can simply run the following cells and just use the resulting environment."
   ]
  },
  {
   "cell_type": "code",
   "execution_count": null,
   "metadata": {},
   "outputs": [],
   "source": [
    "from gym.wrappers import AtariPreprocessing\n",
    "import cv2\n",
    "\n",
    "class PongWrapper(AtariPreprocessing):\n",
    "    def __init__(self, env, **kwargs):\n",
    "        super(PongWrapper, self).__init__(env, **kwargs)\n",
    "\n",
    "    def step(self, action):\n",
    "        return super(PongWrapper, self).step(4 + action)\n",
    "\n",
    "    def _get_obs(self):\n",
    "        if self.frame_skip > 1:  # more efficient in-place pooling\n",
    "            np.maximum(self.obs_buffer[0], self.obs_buffer[1], out=self.obs_buffer[0])\n",
    "        obs = cv2.resize(self.obs_buffer[0], (84, 110), interpolation=cv2.INTER_AREA)[17:101,:]\n",
    "\n",
    "        if self.scale_obs:\n",
    "            obs = np.asarray(obs, dtype=np.float32) / 255.0\n",
    "        else:\n",
    "            obs = np.asarray(obs, dtype=np.uint8)\n",
    "        return obs"
   ]
  },
  {
   "cell_type": "code",
   "execution_count": null,
   "metadata": {},
   "outputs": [],
   "source": [
    "pong = PongWrapper(gym.make('PongNoFrameskip-v4'),\n",
    "                   noop_max=0,\n",
    "                   frame_skip=4,\n",
    "                   terminal_on_life_loss=True,\n",
    "                   grayscale_obs=True,\n",
    "                   scale_obs=True)"
   ]
  },
  {
   "cell_type": "code",
   "execution_count": null,
   "metadata": {},
   "outputs": [],
   "source": [
    "# Trying a random agent in Pong\n",
    "import time\n",
    "\n",
    "pong.reset()\n",
    "pong.render()\n",
    "for i in range(60):\n",
    "    a = np.random.randint(2)\n",
    "    x, r, _, _ = pong.step(a)\n",
    "    pong.render()\n",
    "    #print('\\r', \"reward\", r, end=\"\")\n",
    "    time.sleep(0.1)\n",
    "    \n",
    "pong.close()\n",
    "print(\"shape: \", x.shape, \", min = \", x.min(), \", max = \", x.max(), \", dtype = \", x.dtype, sep='')\n",
    "plt.imshow(x, cmap='gray');"
   ]
  },
  {
   "cell_type": "markdown",
   "metadata": {},
   "source": [
    "# <a id=sec2></a>Value Iteration as a sequence of Supervized Learning problems\n",
    "\n",
    "<div class=\"alert alert-warning\">\n",
    "\n",
    "**Exercice:** start from the Value Iteration update and write $Q_{n+1}$ as a regression problem with parameters $\\theta_{n+1}$. Specify the loss function minimized for this regression problem.\n",
    "</div>"
   ]
  },
  {
   "cell_type": "markdown",
   "metadata": {},
   "source": [
    "<div class=\"alert alert-danger\">\n",
    "    <a href=\"#ValueIteration\" data-toggle=\"collapse\"><b>Answers:</b></a><br>\n",
    "<div id=\"ValueIteration\" class=\"collapse\">\n",
    "\n",
    "Let's start over from the beginning. We want to find:\n",
    "$$\\pi^*(s) = \\arg\\max_{\\pi} \\mathbb{E}_{\\left(r_t\\right)_{t\\in \\mathbb{N}}} \\left[ \\sum_{t=0}^\\infty \\gamma^t r_t \\ \\Big| \\ s, \\pi \\right], \\ \\forall s\\in S.$$\n",
    "\n",
    "We have seen this was equivalent to finding the optimal value function $Q^*$:\n",
    "$$Q^*(s,a) = \\max_{\\pi} \\mathbb{E}_{\\left(r_t\\right)_{t\\in \\mathbb{N}}} \\left[ \\sum_{t=0}^\\infty \\gamma^t r_t \\ \\Big| \\  s,a, \\pi \\right], \\ \\forall (s,a) \\in S\\times A.$$\n",
    "\n",
    "And we have established that $Q^*$ was the only solution to Bellman's optimality equation:\n",
    "$$Q(s,a) = \\mathbb{E}_{s' \\sim p(\\cdot|s,a)} \\left[r(s,a,s') + \\gamma \\max_{a'} Q(s',a')\\right].$$\n",
    "\n",
    "By writing $T^*$ Bellman's optimality operator, we have, by definition:\n",
    "$$(T^*Q)(s,a) = \\mathbb{E}_{s' \\sim p(\\cdot|s,a)} \\left[r(s,a,s') + \\gamma \\max_{a'} Q(s',a')\\right].$$\n",
    "\n",
    "And thus, $Q^*$ is the only solution to $Q=T^*Q$.\n",
    "\n",
    "It appears $T^*$ is a contraction mapping on the $\\mathcal{F}(S\\times A,\\mathbb{R})$ space. Value Iteration exploits this property to build the sequence $Q_{n+1} = T^*Q_n$ which converges to $Q^*$.\n",
    "\n",
    "Let's now suppose that $Q_n$ is a function approximator, whose parameters are $\\theta_n$. We shall write $Q_n(s,a) = Q(s,a;\\theta_n)$. Then building $\\theta_{n+1}$ knowing $\\theta_n$ is the regression problem that minimizes the loss:\n",
    "\\begin{gather}\n",
    "L_n(\\theta) = \\left\\| y_n(s,a) - Q(s,a;\\theta) \\right\\|,\\\\\n",
    "\\textrm{with } y_n(s,a) = \\mathbb{E}_{s' \\sim p(\\cdot|s,a)} \\left[r(s,a,s') + \\gamma \\max_{a'} Q(s',a',\\theta_{n})\\right].\n",
    "\\end{gather}\n",
    "\n",
    "If this loss can be optimized and goes to zero, then we have found the true $Q_{n+1}$. If not, then we have found an approximation of it in the norm used to define $L_n$.\n",
    "\n",
    "</div>\n",
    "</div>"
   ]
  },
  {
   "cell_type": "markdown",
   "metadata": {},
   "source": [
    "<div class=\"alert alert-warning\">\n",
    "\n",
    "**Exercice:** use the L2 norm in the loss of the regression problem above, then write the gradient of the loss with respect to the regressor's parameters. Use this to introduce a stochastic gradient descent method to find $\\theta_{n+1}$.\n",
    "</div>"
   ]
  },
  {
   "cell_type": "markdown",
   "metadata": {},
   "source": [
    "<div class=\"alert alert-danger\">\n",
    "    <a href=\"#VILoss\" data-toggle=\"collapse\"><b>Answers:</b></a><br>\n",
    "<div id=\"VILoss\" class=\"collapse\">\n",
    "\n",
    "Our loss becomes:\n",
    "\\begin{gather}\n",
    "L_n(\\theta) = \\frac{1}{2} \\mathbb{E}_{(s,a) \\sim \\rho(\\cdot)}\\left[ \\big( y_n(s,a) - Q(s,a;\\theta) \\big)^2 \\right],\\\\\n",
    "\\textrm{with } y_n(s,a) = \\mathbb{E}_{s' \\sim p(\\cdot|s,a)} \\left[r(s,a,s') + \\gamma \\max_{a'} Q(s',a',\\theta_{n})\\right].\n",
    "\\end{gather}\n",
    "\n",
    "In the expression above, $\\rho$ is a distribution over the state-action space. Often, it is considered to be the behavior distribution, that is the distribution of samples under the current behavior policy, like $\\epsilon$-greedy. Note that this choice is debatable.\n",
    "\n",
    "So the gradient of this loss is:\n",
    "\\begin{gather}\n",
    "\\nabla_\\theta L_n(\\theta) = \\mathbb{E}_{(s,a) \\sim \\rho(\\cdot)}\\left[ \\big( y_n(s,a) - Q(s,a;\\theta) \\big) \\nabla_\\theta Q(s,a;\\theta) \\right]\\\\\n",
    "\\textrm{with } y_n(s,a) = \\mathbb{E}_{s' \\sim p(\\cdot|s,a)} \\left[r(s,a,s') + \\gamma \\max_{a'} Q(s',a',\\theta_{n})\\right].\n",
    "\\end{gather}\n",
    "\n",
    "And when we wrap all this together:\n",
    "$$\\nabla_\\theta L_n(\\theta) = \\mathbb{E}_{(s,a) \\sim \\rho(\\cdot)}\\left[ \\left( \\mathbb{E}_{s' \\sim p(\\cdot|s,a)} \\left[r(s,a,s') + \\gamma \\max_{a'} Q(s',a',\\theta_{n})\\right] - Q(s,a;\\theta) \\right) \\nabla_\\theta Q(s,a;\\theta) \\right]$$\n",
    "\n",
    "$$\\nabla_\\theta L_n(\\theta) = \\mathbb{E}_{\\substack{(s,a) \\sim \\rho(\\cdot)\\\\ s' \\sim p(\\cdot|s,a)}}\\left[ \\left( r(s,a,s') + \\gamma \\max_{a'} Q(s',a',\\theta_{n}) - Q(s,a;\\theta) \\right) \\nabla_\\theta Q(s,a;\\theta) \\right]$$\n",
    "\n",
    "Rather than computing the full expectations in the above gradient, it is often computationally expedient to optimise the loss function by stochastic gradient descent. Then the stochastic estimate of the gradient is given by:\n",
    "$$\\nabla_\\theta L_n(\\theta) \\approx d_n(\\theta) = \\sum_{i=1}^B \\left[ \\left( r_i + \\gamma \\max_{a'} Q(s_i',a',\\theta_{n}) - Q(s_i,a_i;\\theta) \\right) \\nabla_\\theta Q(s_i,a_i;\\theta) \\right],$$\n",
    "where $\\left\\{ \\left(s_i,a_i,r_i,s'_i\\right) \\right\\}_{i\\in {1,B}}$ is a mini-batch of samples drawn independently, with $(s,a) \\sim \\rho(\\cdot)$ and $s' \\sim p(\\cdot | s,a)$.\n",
    "\n",
    "The stochastic gradient descent procedure builds a sequence of parameter values $\\theta_i$ such that:\n",
    "$$\\theta_{i+1} \\leftarrow \\theta_{i} - \\alpha d_n(\\theta_{i})$$\n",
    "\n",
    "By repeating such gradient steps, one progressively minimizes $L_n(\\theta)$ and finds $\\theta_{n+1}$.\n",
    "\n",
    "</div>\n",
    "</div>"
   ]
  },
  {
   "cell_type": "markdown",
   "metadata": {},
   "source": [
    "**Important remark:**\n",
    "\n",
    "In the update above, if the mini-batch contains a single element, the 1-sample update is precisely that of Q-learning! Then, in Q-learning, the new loss $L_{n+1}$ is defined and the process is repeated. Consequently, there is a new loss function at each time step.\n",
    "\n",
    "<div class=\"alert alert-warning\">\n",
    "\n",
    "**Exercice:** can you spot the (subtle but essential) difference with Q-learning?\n",
    "</div>"
   ]
  },
  {
   "cell_type": "markdown",
   "metadata": {},
   "source": [
    "<div class=\"alert alert-danger\">\n",
    "    <a href=\"#DifferenceQL\" data-toggle=\"collapse\"><b>Answers:</b></a><br>\n",
    "<div id=\"DifferenceQL\" class=\"collapse\">\n",
    "\n",
    "Recall Q-learning. The update was indeed the same, except that at any time step the mini-batch's single element was not sampled independently from the previous minibatch! Indeed, $s'$ from the previous time step becomes $s$ for the current time step. So the successive mini-batches' elements are not drawn iid.\n",
    "\n",
    "That's a key difference that questions the foundation of Q-learning in itself.\n",
    "</div>\n",
    "</div>"
   ]
  },
  {
   "cell_type": "markdown",
   "metadata": {},
   "source": [
    "# <a id=sec3></a>Experience Replay\n",
    "\n",
    "To recover the independence assumption between samples, we can introduce the mechanism of [*Experience Replay*](http://www.incompleteideas.net/lin-92.pdf) by storing past samples into a *Replay Memory*. When samples a required for a mini-batch gradient update, the samples are collected uniformly from the replay memory, thus mimicking an (almost) independent draw according to $\\rho(\\cdot)$."
   ]
  },
  {
   "cell_type": "markdown",
   "metadata": {},
   "source": [
    "<div class=\"alert alert-warning\">\n",
    "    \n",
    "**Exercice:** design a class for the replay memory of the cart-pole example(s). Limit the size of this memory (via a FIFO mechanism) to $10^6$ samples (adapt this number to your computer's RAM). Test it by running a random policy for $2\\cdot 10^6$ time steps.\n",
    "</div>"
   ]
  },
  {
   "cell_type": "code",
   "execution_count": null,
   "metadata": {},
   "outputs": [],
   "source": [
    "# YOUR REPLAY BUFFER CODE"
   ]
  },
  {
   "cell_type": "code",
   "execution_count": 9,
   "metadata": {},
   "outputs": [],
   "source": [
    "# Note that a simple double-ended queue from collections.deque might do the job for a small replay buffer.\n",
    "# But as we will discuss later, it's better to think about the data structures we use.\n",
    "\n",
    "import random\n",
    "\n",
    "class ReplayBuffer:\n",
    "    def __init__(self, capacity):\n",
    "        self.capacity = capacity # capacity of the buffer\n",
    "        self.data = []\n",
    "        self.index = 0 # index of the next cell to be filled\n",
    "\n",
    "    def append(self, s, a, r, s_, d):\n",
    "        if len(self.data) < self.capacity:\n",
    "            self.data.append(None)\n",
    "        self.data[self.index] = (s, a, r, s_, d)\n",
    "        self.index = (self.index + 1) % self.capacity\n",
    "\n",
    "    def sample(self, batch_size):\n",
    "        return random.sample(self.data, batch_size)\n",
    "\n",
    "    def __len__(self):\n",
    "        return len(self.data)"
   ]
  },
  {
   "cell_type": "code",
   "execution_count": 10,
   "metadata": {},
   "outputs": [
    {
     "name": "stderr",
     "output_type": "stream",
     "text": [
      "100%|██████████| 2000000/2000000 [00:35<00:00, 56316.63it/s]"
     ]
    },
    {
     "name": "stdout",
     "output_type": "stream",
     "text": [
      "1000000\n"
     ]
    },
    {
     "name": "stderr",
     "output_type": "stream",
     "text": [
      "\n"
     ]
    }
   ],
   "source": [
    "# Testing insertion in the ReplayBuffer class\n",
    "from tqdm import trange\n",
    "replay_buffer_size = int(1e6)\n",
    "nb_samples = int(2e6)\n",
    "\n",
    "memory = ReplayBuffer(replay_buffer_size)\n",
    "state = cartpole.reset()\n",
    "for _ in trange(nb_samples):\n",
    "    action = cartpole.action_space.sample()\n",
    "    next_state, reward, done, _ = cartpole.step(action)\n",
    "    memory.append(state, action, reward, next_state, done)\n",
    "    if done:\n",
    "        state = cartpole.reset()\n",
    "    else:\n",
    "        state = next_state\n",
    "\n",
    "print(len(memory))"
   ]
  },
  {
   "cell_type": "code",
   "execution_count": 11,
   "metadata": {},
   "outputs": [
    {
     "name": "stderr",
     "output_type": "stream",
     "text": [
      "100%|██████████| 10000/10000 [00:00<00:00, 18230.71it/s]\n"
     ]
    }
   ],
   "source": [
    "nb_batches = int(1e4)\n",
    "batch_size = 50\n",
    "\n",
    "# Testing sampling in the ReplayBuffer class\n",
    "import random\n",
    "\n",
    "for _ in trange(nb_batches):\n",
    "    batch = memory.sample(batch_size)"
   ]
  },
  {
   "cell_type": "code",
   "execution_count": 12,
   "metadata": {},
   "outputs": [
    {
     "name": "stdout",
     "output_type": "stream",
     "text": [
      "[(array([-0.04837917, -0.38399926, -0.04235496,  0.46184305]), 1, 1.0, array([-0.05605915, -0.18830509, -0.0331181 ,  0.15611641]), False), (array([-0.00298504, -0.23540148, -0.01423295,  0.30727524]), 1, 1.0, array([-0.00769307, -0.04007965, -0.00808745,  0.01013781]), False)]\n"
     ]
    }
   ],
   "source": [
    "print(memory.sample(2))"
   ]
  },
  {
   "cell_type": "markdown",
   "metadata": {},
   "source": [
    "<div class=\"alert alert-warning\">\n",
    "    \n",
    "**Know your data structures!**\n",
    "\n",
    "Taking the time to think about what makes a good replay buffer may save you hours of puzzled head-banging. It is important to know what you expect from your replay buffer to choose the right data structure.\n",
    "\n",
    "Common mistake: we need a fixed sized memory, that works like a FIFO structure, so let's pick a deque. That sounds fair, deques (in Python) have a fixed maximum size and constant time insertion at the beginning and the end. BUT they also have $O(n)$ access time which means that for large replay buffers, sampling a minibatch may take forever.\n",
    "\n",
    "Here, what we really need is a fixed-size FIFO, with $O(1)$ insertion at the end and $O(1)$ access.\n",
    "\n",
    "This should motivate the choices made in the replay buffer class above.\n",
    "</div>"
   ]
  },
  {
   "cell_type": "markdown",
   "metadata": {},
   "source": [
    "# <a id=sec4></a>A deep Q-network\n",
    "\n",
    "The term Deep Q-Network was coined by the (now historical) paper **[Playing Atari with Deep Reinforcement Learning](https://arxiv.org/abs/1312.5602)** by Mnih et al. (2013) that put forward the main ideas we develop here. All those were later popularized by DeepMind's paper in Nature **[Human-level control through deep reinforcement learning](https://deepmind.com/research/publications/human-level-control-through-deep-reinforcement-learning)** by Mnih et al. (2015).\n",
    "\n",
    "Let's design a (deep) neural network that will serve as a function approximator for $Q(s,a;\\theta)$. \n",
    "\n",
    "<img src=\"../images/dqlas.png\" height=\"15%\" width=\"15%\"></img>\n",
    "\n",
    "Note that since we're going to have to compute $\\max_a Q(s,a)$ it is preferable to avoid running as many passes through the network as there are actions. Therefore, instead of the network structure above, we will prefer to use the one below.\n",
    "\n",
    "<img src=\"../images/dqls.png\" height=\"30%\" width=\"30%\"></img>\n",
    "\n",
    "<div class=\"alert alert-warning\">\n",
    "    \n",
    "**Exercice:** declare a neural network for our Q function. For the CartPole task, you can use a simple network with 2 hidden layers and 16 neurons on each layer. For the SwingUp task, go up to 50 neurons per layer. For Pong... well wait a minute, we'll get to it later.\n",
    "</div>"
   ]
  },
  {
   "cell_type": "code",
   "execution_count": null,
   "metadata": {},
   "outputs": [],
   "source": [
    "# YOUR NEURAL NETWORK CODE"
   ]
  },
  {
   "cell_type": "code",
   "execution_count": 17,
   "metadata": {},
   "outputs": [],
   "source": [
    "import torch\n",
    "import torch.nn as nn\n",
    "\n",
    "device = torch.device(\"cuda\" if torch.cuda.is_available() else \"cpu\")\n",
    "\n",
    "state_dim = cartpole.observation_space.shape[0]\n",
    "n_action = cartpole.action_space.n \n",
    "nb_neurons=24\n",
    "\n",
    "DQN = torch.nn.Sequential(nn.Linear(state_dim, nb_neurons),\n",
    "                          nn.ReLU(),\n",
    "                          nn.Linear(nb_neurons, nb_neurons),\n",
    "                          nn.ReLU(), \n",
    "                          nn.Linear(nb_neurons, n_action)).to(device)"
   ]
  },
  {
   "cell_type": "markdown",
   "metadata": {},
   "source": [
    "We're almost there. Now you can implement the algorithm that:\n",
    "- takes $\\epsilon$-greedy actions with respect to $Q$\n",
    "- stores samples in the replay buffer\n",
    "- at each interaction step with the environment, draws a mini-batch, computes the target values for each $(s,a)$ and takes a gradient step.\n",
    "- repeats\n",
    "\n",
    "<div class=\"alert alert-warning\">\n",
    "    \n",
    "**Exercice:** write this algorithm's pseudo-code, then proceed with your implementation, using the network and replay buffer you defined in the previous cells.\n",
    "</div>\n",
    "\n",
    "You can take inspiration from the algorithm on page 5 of [Playing Atari with Deep Reinforcement Learning](https://arxiv.org/abs/1312.5602).\n",
    "\n",
    "<div class=\"alert alert-danger\">\n",
    "    <a href=\"#DQNpseudocode\" data-toggle=\"collapse\"><b>Answer:</b></a><br>\n",
    "<div id=\"DQNpseudocode\" class=\"collapse\">\n",
    "\n",
    "         state = init()\n",
    "         loop:\n",
    "            action = greedy_action(DQN) or random_action()\n",
    "            new_state, reward = step(state, action)\n",
    "            replay_memory.add(state, action, reward, new_state)\n",
    "            minibatch = replay_memory.sample(minibatch_size)\n",
    "            X_train = Y_train = []\n",
    "            for (s,a,r,s') in minibatch:\n",
    "                Q  = DQN.predict(s)\n",
    "                Q' = DQN.predict(s')\n",
    "                if non-terminal(s'): \n",
    "                    update = r + gamma * max(Q')    \n",
    "                else:  \n",
    "                    update = r\n",
    "                Q[a] = update\n",
    "                X_train.add(s)\n",
    "                Y_train.add(Q)\n",
    "            DQN.train_one_step(X_train,Y_train)\n",
    "            state = new_state\n",
    "</div>\n",
    "</div>\n",
    "\n",
    "A common optimizer (instead of plain SGD) is RMSprop. But don't run this code just yet!"
   ]
  },
  {
   "cell_type": "code",
   "execution_count": null,
   "metadata": {},
   "outputs": [],
   "source": [
    "# YOUR DEEP Q LEARNING CODE"
   ]
  },
  {
   "cell_type": "code",
   "execution_count": 13,
   "metadata": {},
   "outputs": [],
   "source": [
    "# It will actually be useful to have separate torch.Tensor for the each element type in the sampled minibatch.\n",
    "# That is one Tensor for a minibatch of states, another for actions, etc.\n",
    "# Let's redefine the sample function of our replay buffer class to that end.\n",
    "import random\n",
    "\n",
    "class ReplayBuffer:\n",
    "    def __init__(self, capacity):\n",
    "        self.capacity = capacity # capacity of the buffer\n",
    "        self.data = []\n",
    "        self.index = 0 # index of the next cell to be filled\n",
    "\n",
    "    def append(self, s, a, r, s_, d):\n",
    "        if len(self.data) < self.capacity:\n",
    "            self.data.append(None)\n",
    "        self.data[self.index] = (s, a, r, s_, d)\n",
    "        self.index = (self.index + 1) % self.capacity\n",
    "\n",
    "    def sample(self, batch_size):\n",
    "        batch = random.sample(self.data, batch_size)\n",
    "        return list(map(lambda x:torch.Tensor(x).to(device), list(zip(*batch))))\n",
    "\n",
    "    def __len__(self):\n",
    "        return len(self.data)"
   ]
  },
  {
   "cell_type": "code",
   "execution_count": 14,
   "metadata": {},
   "outputs": [],
   "source": [
    "# Let's define a utility function that gives us the greedy action from a DQN\n",
    "import torch\n",
    "\n",
    "def greedy_action(network, state):\n",
    "    with torch.no_grad():\n",
    "        Q = network(torch.Tensor(state).unsqueeze(0).to(device))\n",
    "        return torch.argmax(Q).detach().cpu().item()"
   ]
  },
  {
   "cell_type": "code",
   "execution_count": 15,
   "metadata": {},
   "outputs": [],
   "source": [
    "# The Deep Q-learning algorithm's class\n",
    "\n",
    "import numpy as np\n",
    "import torch\n",
    "import torch.nn as nn\n",
    "\n",
    "class DQN_agent:\n",
    "    def __init__(self, config, model):\n",
    "        self.gamma = config['gamma']\n",
    "        self.batch_size = config['batch_size']\n",
    "        self.nb_actions = config['nb_actions']\n",
    "        self.memory = ReplayBuffer(config['buffer_size'])\n",
    "        self.epsilon_max = config['epsilon_max']\n",
    "        self.epsilon_min = config['epsilon_min']\n",
    "        self.epsilon_stop = config['epsilon_stop']\n",
    "        self.epsilon_delay = config['epsilon_delay_decay']\n",
    "        self.epsilon_step = (self.epsilon_max-self.epsilon_min)/self.epsilon_stop\n",
    "        self.total_steps = 0\n",
    "        self.model = model \n",
    "        self.criterion = torch.nn.MSELoss()\n",
    "        self.optimizer = torch.optim.RMSprop(self.model.parameters(), lr=config['learning_rate'])\n",
    "    \n",
    "    def gradient_step(self):\n",
    "        if len(self.memory) > self.batch_size:\n",
    "            X, A, R, Y, D = self.memory.sample(self.batch_size)\n",
    "            QX = self.model(X)\n",
    "            QY = self.model(Y)\n",
    "            QYmax = torch.max(QY, axis=1)[0]\n",
    "            update = QX\n",
    "            A = A.to(torch.long)\n",
    "            update[torch.arange(self.batch_size), A] = torch.addcmul(R, self.gamma, 1-D, QYmax)\n",
    "\n",
    "            loss = self.criterion(self.model(X), update)\n",
    "            self.optimizer.zero_grad()\n",
    "            loss.backward()\n",
    "            self.optimizer.step() \n",
    "    \n",
    "    def train(self, env, max_episode):\n",
    "        episode_return = []\n",
    "        episode = 0\n",
    "        episode_cum_reward = 0\n",
    "        state = env.reset()\n",
    "        epsilon = self.epsilon_max\n",
    "        step = 0\n",
    "\n",
    "        while episode < max_episode:\n",
    "            # update epsilon\n",
    "            if step > self.epsilon_delay:\n",
    "                epsilon = max(self.epsilon_min, epsilon-self.epsilon_step)\n",
    "\n",
    "            # select epsilon-greedy action\n",
    "            if np.random.rand() < epsilon:\n",
    "                action = np.random.randint(self.nb_actions)\n",
    "            else:\n",
    "                action = greedy_action(self.model, state)\n",
    "\n",
    "            # step\n",
    "            next_state, reward, done, _ = env.step(action)\n",
    "            self.memory.append(state, action, reward, next_state, done)\n",
    "            episode_cum_reward += reward\n",
    "\n",
    "            # train\n",
    "            self.gradient_step()\n",
    "\n",
    "            # next transition\n",
    "            step += 1\n",
    "            if done:\n",
    "                episode += 1\n",
    "                print(\"Episode \", '{:3d}'.format(episode), \n",
    "                      \", epsilon \", '{:6.2f}'.format(epsilon), \n",
    "                      \", batch size \", '{:5d}'.format(len(self.memory)), \n",
    "                      \", episode return \", '{:4.1f}'.format(episode_cum_reward),\n",
    "                      sep='')\n",
    "                state = env.reset()\n",
    "                episode_return.append(episode_cum_reward)\n",
    "                episode_cum_reward = 0\n",
    "            else:\n",
    "                state = next_state\n",
    "\n",
    "        return episode_return"
   ]
  },
  {
   "cell_type": "code",
   "execution_count": 18,
   "metadata": {},
   "outputs": [
    {
     "name": "stdout",
     "output_type": "stream",
     "text": [
      "Episode   1, epsilon   1.00, batch size    14, episode return 14.0\n",
      "Episode   2, epsilon   0.99, batch size    27, episode return 13.0\n",
      "Episode   3, epsilon   0.98, batch size    40, episode return 13.0\n",
      "Episode   4, epsilon   0.97, batch size    49, episode return  9.0\n",
      "Episode   5, epsilon   0.96, batch size    64, episode return 15.0\n",
      "Episode   6, epsilon   0.92, batch size    98, episode return 34.0\n",
      "Episode   7, epsilon   0.85, batch size   173, episode return 75.0\n",
      "Episode   8, epsilon   0.82, batch size   198, episode return 25.0\n",
      "Episode   9, epsilon   0.81, batch size   209, episode return 11.0\n",
      "Episode  10, epsilon   0.80, batch size   223, episode return 14.0\n",
      "Episode  11, epsilon   0.76, batch size   263, episode return 40.0\n",
      "Episode  12, epsilon   0.72, batch size   307, episode return 44.0\n",
      "Episode  13, epsilon   0.71, batch size   318, episode return 11.0\n",
      "Episode  14, epsilon   0.68, batch size   341, episode return 23.0\n",
      "Episode  15, epsilon   0.66, batch size   362, episode return 21.0\n",
      "Episode  16, epsilon   0.65, batch size   375, episode return 13.0\n",
      "Episode  17, epsilon   0.61, batch size   419, episode return 44.0\n",
      "Episode  18, epsilon   0.54, batch size   485, episode return 66.0\n",
      "Episode  19, epsilon   0.52, batch size   503, episode return 18.0\n",
      "Episode  20, epsilon   0.50, batch size   521, episode return 18.0\n",
      "Episode  21, epsilon   0.48, batch size   546, episode return 25.0\n",
      "Episode  22, epsilon   0.47, batch size   561, episode return 15.0\n",
      "Episode  23, epsilon   0.39, batch size   640, episode return 79.0\n",
      "Episode  24, epsilon   0.36, batch size   663, episode return 23.0\n",
      "Episode  25, epsilon   0.35, batch size   673, episode return 10.0\n",
      "Episode  26, epsilon   0.34, batch size   687, episode return 14.0\n",
      "Episode  27, epsilon   0.31, batch size   715, episode return 28.0\n",
      "Episode  28, epsilon   0.30, batch size   732, episode return 17.0\n",
      "Episode  29, epsilon   0.28, batch size   751, episode return 19.0\n",
      "Episode  30, epsilon   0.22, batch size   806, episode return 55.0\n",
      "Episode  31, epsilon   0.21, batch size   819, episode return 13.0\n",
      "Episode  32, epsilon   0.14, batch size   889, episode return 70.0\n",
      "Episode  33, epsilon   0.11, batch size   915, episode return 26.0\n",
      "Episode  34, epsilon   0.05, batch size   977, episode return 62.0\n",
      "Episode  35, epsilon   0.01, batch size  1019, episode return 42.0\n",
      "Episode  36, epsilon   0.01, batch size  1041, episode return 22.0\n",
      "Episode  37, epsilon   0.01, batch size  1121, episode return 80.0\n",
      "Episode  38, epsilon   0.01, batch size  1137, episode return 16.0\n",
      "Episode  39, epsilon   0.01, batch size  1160, episode return 23.0\n",
      "Episode  40, epsilon   0.01, batch size  1241, episode return 81.0\n",
      "Episode  41, epsilon   0.01, batch size  1334, episode return 93.0\n",
      "Episode  42, epsilon   0.01, batch size  1396, episode return 62.0\n",
      "Episode  43, epsilon   0.01, batch size  1433, episode return 37.0\n",
      "Episode  44, epsilon   0.01, batch size  1506, episode return 73.0\n",
      "Episode  45, epsilon   0.01, batch size  1570, episode return 64.0\n",
      "Episode  46, epsilon   0.01, batch size  1631, episode return 61.0\n",
      "Episode  47, epsilon   0.01, batch size  1663, episode return 32.0\n",
      "Episode  48, epsilon   0.01, batch size  1761, episode return 98.0\n",
      "Episode  49, epsilon   0.01, batch size  1800, episode return 39.0\n",
      "Episode  50, epsilon   0.01, batch size  1860, episode return 60.0\n",
      "Episode  51, epsilon   0.01, batch size  1932, episode return 72.0\n",
      "Episode  52, epsilon   0.01, batch size  2000, episode return 68.0\n",
      "Episode  53, epsilon   0.01, batch size  2128, episode return 128.0\n",
      "Episode  54, epsilon   0.01, batch size  2206, episode return 78.0\n",
      "Episode  55, epsilon   0.01, batch size  2325, episode return 119.0\n",
      "Episode  56, epsilon   0.01, batch size  2406, episode return 81.0\n",
      "Episode  57, epsilon   0.01, batch size  2500, episode return 94.0\n",
      "Episode  58, epsilon   0.01, batch size  2609, episode return 109.0\n",
      "Episode  59, epsilon   0.01, batch size  2720, episode return 111.0\n",
      "Episode  60, epsilon   0.01, batch size  2815, episode return 95.0\n",
      "Episode  61, epsilon   0.01, batch size  2915, episode return 100.0\n",
      "Episode  62, epsilon   0.01, batch size  3327, episode return 412.0\n",
      "Episode  63, epsilon   0.01, batch size  3443, episode return 116.0\n",
      "Episode  64, epsilon   0.01, batch size  3581, episode return 138.0\n",
      "Episode  65, epsilon   0.01, batch size  3675, episode return 94.0\n",
      "Episode  66, epsilon   0.01, batch size  4175, episode return 500.0\n",
      "Episode  67, epsilon   0.01, batch size  4675, episode return 500.0\n",
      "Episode  68, epsilon   0.01, batch size  5175, episode return 500.0\n",
      "Episode  69, epsilon   0.01, batch size  5675, episode return 500.0\n",
      "Episode  70, epsilon   0.01, batch size  6175, episode return 500.0\n",
      "Episode  71, epsilon   0.01, batch size  6675, episode return 500.0\n",
      "Episode  72, epsilon   0.01, batch size  7175, episode return 500.0\n",
      "Episode  73, epsilon   0.01, batch size  7675, episode return 500.0\n",
      "Episode  74, epsilon   0.01, batch size  8175, episode return 500.0\n",
      "Episode  75, epsilon   0.01, batch size  8675, episode return 500.0\n",
      "Episode  76, epsilon   0.01, batch size  9175, episode return 500.0\n",
      "Episode  77, epsilon   0.01, batch size  9675, episode return 500.0\n",
      "Episode  78, epsilon   0.01, batch size 10175, episode return 500.0\n",
      "Episode  79, epsilon   0.01, batch size 10405, episode return 230.0\n",
      "Episode  80, epsilon   0.01, batch size 10648, episode return 243.0\n",
      "Episode  81, epsilon   0.01, batch size 10909, episode return 261.0\n",
      "Episode  82, epsilon   0.01, batch size 11148, episode return 239.0\n",
      "Episode  83, epsilon   0.01, batch size 11408, episode return 260.0\n",
      "Episode  84, epsilon   0.01, batch size 11748, episode return 340.0\n",
      "Episode  85, epsilon   0.01, batch size 12248, episode return 500.0\n",
      "Episode  86, epsilon   0.01, batch size 12505, episode return 257.0\n",
      "Episode  87, epsilon   0.01, batch size 13005, episode return 500.0\n",
      "Episode  88, epsilon   0.01, batch size 13281, episode return 276.0\n",
      "Episode  89, epsilon   0.01, batch size 13781, episode return 500.0\n",
      "Episode  90, epsilon   0.01, batch size 14096, episode return 315.0\n",
      "Episode  91, epsilon   0.01, batch size 14398, episode return 302.0\n",
      "Episode  92, epsilon   0.01, batch size 14644, episode return 246.0\n",
      "Episode  93, epsilon   0.01, batch size 14865, episode return 221.0\n",
      "Episode  94, epsilon   0.01, batch size 15365, episode return 500.0\n",
      "Episode  95, epsilon   0.01, batch size 15697, episode return 332.0\n",
      "Episode  96, epsilon   0.01, batch size 15981, episode return 284.0\n",
      "Episode  97, epsilon   0.01, batch size 16244, episode return 263.0\n",
      "Episode  98, epsilon   0.01, batch size 16617, episode return 373.0\n",
      "Episode  99, epsilon   0.01, batch size 16830, episode return 213.0\n",
      "Episode 100, epsilon   0.01, batch size 17149, episode return 319.0\n",
      "Episode 101, epsilon   0.01, batch size 17407, episode return 258.0\n",
      "Episode 102, epsilon   0.01, batch size 17719, episode return 312.0\n",
      "Episode 103, epsilon   0.01, batch size 18219, episode return 500.0\n",
      "Episode 104, epsilon   0.01, batch size 18487, episode return 268.0\n",
      "Episode 105, epsilon   0.01, batch size 18987, episode return 500.0\n",
      "Episode 106, epsilon   0.01, batch size 19282, episode return 295.0\n",
      "Episode 107, epsilon   0.01, batch size 19573, episode return 291.0\n",
      "Episode 108, epsilon   0.01, batch size 19837, episode return 264.0\n",
      "Episode 109, epsilon   0.01, batch size 20169, episode return 332.0\n",
      "Episode 110, epsilon   0.01, batch size 20417, episode return 248.0\n",
      "Episode 111, epsilon   0.01, batch size 20683, episode return 266.0\n",
      "Episode 112, epsilon   0.01, batch size 21183, episode return 500.0\n",
      "Episode 113, epsilon   0.01, batch size 21526, episode return 343.0\n",
      "Episode 114, epsilon   0.01, batch size 21778, episode return 252.0\n",
      "Episode 115, epsilon   0.01, batch size 22278, episode return 500.0\n",
      "Episode 116, epsilon   0.01, batch size 22529, episode return 251.0\n",
      "Episode 117, epsilon   0.01, batch size 23029, episode return 500.0\n",
      "Episode 118, epsilon   0.01, batch size 23327, episode return 298.0\n",
      "Episode 119, epsilon   0.01, batch size 23827, episode return 500.0\n",
      "Episode 120, epsilon   0.01, batch size 24026, episode return 199.0\n",
      "Episode 121, epsilon   0.01, batch size 24418, episode return 392.0\n",
      "Episode 122, epsilon   0.01, batch size 24918, episode return 500.0\n"
     ]
    },
    {
     "name": "stdout",
     "output_type": "stream",
     "text": [
      "Episode 123, epsilon   0.01, batch size 25147, episode return 229.0\n",
      "Episode 124, epsilon   0.01, batch size 25492, episode return 345.0\n",
      "Episode 125, epsilon   0.01, batch size 25992, episode return 500.0\n",
      "Episode 126, epsilon   0.01, batch size 26287, episode return 295.0\n",
      "Episode 127, epsilon   0.01, batch size 26617, episode return 330.0\n",
      "Episode 128, epsilon   0.01, batch size 26863, episode return 246.0\n",
      "Episode 129, epsilon   0.01, batch size 27363, episode return 500.0\n",
      "Episode 130, epsilon   0.01, batch size 27766, episode return 403.0\n",
      "Episode 131, epsilon   0.01, batch size 28266, episode return 500.0\n",
      "Episode 132, epsilon   0.01, batch size 28551, episode return 285.0\n",
      "Episode 133, epsilon   0.01, batch size 29051, episode return 500.0\n",
      "Episode 134, epsilon   0.01, batch size 29420, episode return 369.0\n",
      "Episode 135, epsilon   0.01, batch size 29920, episode return 500.0\n",
      "Episode 136, epsilon   0.01, batch size 30273, episode return 353.0\n",
      "Episode 137, epsilon   0.01, batch size 30563, episode return 290.0\n",
      "Episode 138, epsilon   0.01, batch size 30967, episode return 404.0\n",
      "Episode 139, epsilon   0.01, batch size 31334, episode return 367.0\n",
      "Episode 140, epsilon   0.01, batch size 31686, episode return 352.0\n",
      "Episode 141, epsilon   0.01, batch size 32117, episode return 431.0\n",
      "Episode 142, epsilon   0.01, batch size 32617, episode return 500.0\n",
      "Episode 143, epsilon   0.01, batch size 33117, episode return 500.0\n",
      "Episode 144, epsilon   0.01, batch size 33517, episode return 400.0\n",
      "Episode 145, epsilon   0.01, batch size 34017, episode return 500.0\n",
      "Episode 146, epsilon   0.01, batch size 34517, episode return 500.0\n",
      "Episode 147, epsilon   0.01, batch size 34831, episode return 314.0\n",
      "Episode 148, epsilon   0.01, batch size 35331, episode return 500.0\n",
      "Episode 149, epsilon   0.01, batch size 35831, episode return 500.0\n",
      "Episode 150, epsilon   0.01, batch size 36331, episode return 500.0\n",
      "Episode 151, epsilon   0.01, batch size 36704, episode return 373.0\n",
      "Episode 152, epsilon   0.01, batch size 37204, episode return 500.0\n",
      "Episode 153, epsilon   0.01, batch size 37704, episode return 500.0\n",
      "Episode 154, epsilon   0.01, batch size 38204, episode return 500.0\n",
      "Episode 155, epsilon   0.01, batch size 38425, episode return 221.0\n",
      "Episode 156, epsilon   0.01, batch size 38737, episode return 312.0\n",
      "Episode 157, epsilon   0.01, batch size 39237, episode return 500.0\n",
      "Episode 158, epsilon   0.01, batch size 39737, episode return 500.0\n",
      "Episode 159, epsilon   0.01, batch size 40237, episode return 500.0\n",
      "Episode 160, epsilon   0.01, batch size 40589, episode return 352.0\n",
      "Episode 161, epsilon   0.01, batch size 41089, episode return 500.0\n",
      "Episode 162, epsilon   0.01, batch size 41589, episode return 500.0\n",
      "Episode 163, epsilon   0.01, batch size 42071, episode return 482.0\n",
      "Episode 164, epsilon   0.01, batch size 42421, episode return 350.0\n",
      "Episode 165, epsilon   0.01, batch size 42754, episode return 333.0\n",
      "Episode 166, epsilon   0.01, batch size 43254, episode return 500.0\n",
      "Episode 167, epsilon   0.01, batch size 43754, episode return 500.0\n",
      "Episode 168, epsilon   0.01, batch size 44254, episode return 500.0\n",
      "Episode 169, epsilon   0.01, batch size 44754, episode return 500.0\n",
      "Episode 170, epsilon   0.01, batch size 45196, episode return 442.0\n",
      "Episode 171, epsilon   0.01, batch size 45696, episode return 500.0\n",
      "Episode 172, epsilon   0.01, batch size 46036, episode return 340.0\n",
      "Episode 173, epsilon   0.01, batch size 46536, episode return 500.0\n",
      "Episode 174, epsilon   0.01, batch size 46867, episode return 331.0\n",
      "Episode 175, epsilon   0.01, batch size 47081, episode return 214.0\n",
      "Episode 176, epsilon   0.01, batch size 47581, episode return 500.0\n",
      "Episode 177, epsilon   0.01, batch size 48081, episode return 500.0\n",
      "Episode 178, epsilon   0.01, batch size 48437, episode return 356.0\n",
      "Episode 179, epsilon   0.01, batch size 48937, episode return 500.0\n",
      "Episode 180, epsilon   0.01, batch size 49437, episode return 500.0\n",
      "Episode 181, epsilon   0.01, batch size 49937, episode return 500.0\n",
      "Episode 182, epsilon   0.01, batch size 50437, episode return 500.0\n",
      "Episode 183, epsilon   0.01, batch size 50774, episode return 337.0\n",
      "Episode 184, epsilon   0.01, batch size 51274, episode return 500.0\n",
      "Episode 185, epsilon   0.01, batch size 51774, episode return 500.0\n",
      "Episode 186, epsilon   0.01, batch size 52056, episode return 282.0\n",
      "Episode 187, epsilon   0.01, batch size 52556, episode return 500.0\n",
      "Episode 188, epsilon   0.01, batch size 53056, episode return 500.0\n",
      "Episode 189, epsilon   0.01, batch size 53526, episode return 470.0\n",
      "Episode 190, epsilon   0.01, batch size 53948, episode return 422.0\n",
      "Episode 191, epsilon   0.01, batch size 54329, episode return 381.0\n",
      "Episode 192, epsilon   0.01, batch size 54829, episode return 500.0\n",
      "Episode 193, epsilon   0.01, batch size 55329, episode return 500.0\n",
      "Episode 194, epsilon   0.01, batch size 55715, episode return 386.0\n",
      "Episode 195, epsilon   0.01, batch size 56215, episode return 500.0\n",
      "Episode 196, epsilon   0.01, batch size 56715, episode return 500.0\n",
      "Episode 197, epsilon   0.01, batch size 57215, episode return 500.0\n",
      "Episode 198, epsilon   0.01, batch size 57543, episode return 328.0\n",
      "Episode 199, epsilon   0.01, batch size 58043, episode return 500.0\n",
      "Episode 200, epsilon   0.01, batch size 58543, episode return 500.0\n"
     ]
    },
    {
     "data": {
      "image/png": "[encoded data removed]",
      "text/plain": [
       "<Figure size 432x288 with 1 Axes>"
      ]
     },
     "metadata": {
      "needs_background": "light"
     },
     "output_type": "display_data"
    }
   ],
   "source": [
    "config = {'observation_space': cartpole.observation_space.shape[0],\n",
    "          'nb_actions': cartpole.action_space.n,\n",
    "          'learning_rate': 0.001,\n",
    "          'gamma': 0.95,\n",
    "          'buffer_size': 1000000,\n",
    "          'epsilon_min': 0.01,\n",
    "          'epsilon_max': 1.,\n",
    "          'epsilon_stop': 1000,\n",
    "          'epsilon_delay_decay': 20,\n",
    "          'batch_size': 20}\n",
    "\n",
    "agent = DQN_agent(config, DQN)\n",
    "scores = agent.train(cartpole, 200)\n",
    "plt.plot(scores);"
   ]
  },
  {
   "cell_type": "code",
   "execution_count": 21,
   "metadata": {},
   "outputs": [
    {
     "name": "stdout",
     "output_type": "stream",
     "text": [
      "211\n"
     ]
    }
   ],
   "source": [
    "x = cartpole.reset()\n",
    "cartpole.render()\n",
    "for i in range(1000):\n",
    "    a = greedy_action(DQN, x)\n",
    "    y, _, d, _ = cartpole.step(a)\n",
    "    cartpole.render()\n",
    "    x=y\n",
    "    if d:\n",
    "        print(i)\n",
    "        break\n",
    "\n",
    "cartpole.close()"
   ]
  },
  {
   "cell_type": "markdown",
   "metadata": {},
   "source": [
    "# <a id=sec5></a>Making DQN more efficient\n",
    "\n",
    "\n",
    "## <a id=sec5.1></a>Changing the optimizer\n",
    "\n",
    "The question of which optimizer to choose is quite open in RL. Most common choices are RMSprop or Adam (with, sometimes, carefully chosen hyperparameters). For the example of cart-pole, it seems Adam with default parameters works better, but that's not a general rule.\n",
    "\n",
    "## <a id=sec5.2></a>Several gradient steps\n",
    "\n",
    "Recall that within an iteration of Value Iteration, one aims at minimizing the $L_n(\\theta)$ (before moving on to the next iteration). Why take a single gradient step on this loss when a new sample is collected? Taking several gradient steps can greatly accelerate the convergence in terms of number of collected samples. That's what is commonly called *sample efficiency*.\n",
    "\n",
    "## <a id=sec5.3></a>Target network\n",
    "It appears the code above will (probably) slowly converge to $Q^*$ but this convergence might be unstable and noisy. This can be greatly improved by taking several gradient steps on a given loss function $L_n$ instead of changing the loss function after each sample. This idea is similar to the one above.\n",
    "\n",
    "In practice, this is achieved by the introduction of a *target network* whose parameters are noted $\\theta^-$. This idea was introduced in the [Human-level control through deep reinforcement learning](https://deepmind.com/research/publications/human-level-control-through-deep-reinforcement-learning) paper. At any time step, the loss becomes:\n",
    "$$L(\\theta) = \\mathbb{E}_{s,a,r,s'} \\left[ \\left( r + \\gamma \\max_{a'} Q(s',a',\\theta^-) - Q(s,a;\\theta) \\right) ^2 \\right],$$\n",
    "and the target network parameters $\\theta^-$ are only updated with the Q-network parameters $\\theta_n$ every $C$ steps and are held fixed between individual updates.\n",
    "\n",
    "This process of accumulating several gradient steps into $\\theta_n$ before updating $\\theta^-$ draws our algorithm closer to a Value Iteration scheme (or a Fitted Q-Iteration scheme for that matter).\n",
    "\n",
    "Note that more recent approaches smooth out this accumulation process by defining soft updates of the form:\n",
    "$$\\theta^- \\leftarrow \\beta \\theta^- + (1-\\beta) \\theta_n.$$\n",
    "\n",
    "## <a id=sec5.4></a>Error clipping\n",
    "\n",
    "Another common pratice to stabilize learning is to clip the value of the loss' gradient between $-1$ and $1$. This is not such an uncommon trick, it actually amounts to using an L2 loss for values of the loss between $-1$ and $1$ and an L1 loss outside of this domain. This is also know as the [Huber Loss](https://en.wikipedia.org/wiki/Huber_loss) or the [smooth L1 loss](https://pytorch.org/docs/stable/nn.html#smoothl1loss).\n",
    "\n",
    "<div class=\"alert alert-warning\">\n",
    "    \n",
    "**Exercice:** modify you code above to include a target network (with $C$ in the order of $100$), a fixed number of gradient steps per acquired sample, and the clipping of the error term. You can also use Adam for improved efficiency. Then run it to learn an efficient policy for CartPole (then for SwingUp).\n",
    "</div>"
   ]
  },
  {
   "cell_type": "code",
   "execution_count": null,
   "metadata": {},
   "outputs": [],
   "source": [
    "# YOUR IMPROVED DEEP Q LEARNING CODE"
   ]
  },
  {
   "cell_type": "code",
   "execution_count": 22,
   "metadata": {},
   "outputs": [],
   "source": [
    "# Let's reset the Q function\n",
    "\n",
    "import torch\n",
    "import torch.nn as nn\n",
    "\n",
    "device = torch.device(\"cuda\" if torch.cuda.is_available() else \"cpu\")\n",
    "\n",
    "state_dim = cartpole.observation_space.shape[0]\n",
    "n_action = cartpole.action_space.n \n",
    "nb_neurons=24\n",
    "\n",
    "DQN = torch.nn.Sequential(nn.Linear(state_dim, nb_neurons),\n",
    "                          nn.ReLU(),\n",
    "                          nn.Linear(nb_neurons, nb_neurons),\n",
    "                          nn.ReLU(), \n",
    "                          nn.Linear(nb_neurons, n_action)).to(device)"
   ]
  },
  {
   "cell_type": "code",
   "execution_count": 23,
   "metadata": {},
   "outputs": [],
   "source": [
    "import numpy as np\n",
    "import torch\n",
    "import torch.nn as nn\n",
    "from copy import deepcopy\n",
    "\n",
    "class DQN_agent:\n",
    "    def __init__(self, config, model):\n",
    "        self.gamma = config['gamma']\n",
    "        self.batch_size = config['batch_size']\n",
    "        self.nb_actions = config['nb_actions']\n",
    "        self.memory = ReplayBuffer(config['buffer_size'])\n",
    "        self.epsilon_max = config['epsilon_max']\n",
    "        self.epsilon_min = config['epsilon_min']\n",
    "        self.epsilon_stop = config['epsilon_stop']\n",
    "        self.epsilon_delay = config['epsilon_delay_decay']\n",
    "        self.epsilon_step = (self.epsilon_max-self.epsilon_min)/self.epsilon_stop\n",
    "        self.nb_gradient_steps = config['gradient_steps'] # NEW NEW NEW\n",
    "        self.total_steps = 0\n",
    "        self.model = model \n",
    "        self.criterion = torch.nn.SmoothL1Loss() # NEW NEW NEW\n",
    "        self.optimizer = torch.optim.Adam(self.model.parameters(), lr=config['learning_rate']) # NEW NEW NEW\n",
    "        self.target_model = deepcopy(self.model).to(device) # NEW NEW NEW\n",
    "        self.update_target_freq = config['update_target_freq'] # NEW NEW NEW\n",
    "    \n",
    "    def gradient_step(self):\n",
    "        if len(self.memory) > self.batch_size:\n",
    "            X, A, R, Y, D = self.memory.sample(self.batch_size)\n",
    "            QX = self.model(X)\n",
    "            QY = self.target_model(Y)\n",
    "            QYmax = torch.max(QY, axis=1)[0]\n",
    "            update = QX\n",
    "            A = A.to(torch.long)\n",
    "            update[torch.arange(self.batch_size), A] = torch.addcmul(R, self.gamma, 1-D, QYmax)\n",
    "\n",
    "            loss = self.criterion(self.model(X), update)\n",
    "            self.optimizer.zero_grad()\n",
    "            loss.backward()\n",
    "            self.optimizer.step() \n",
    "    \n",
    "    def train(self, env, max_episode):\n",
    "        episode_return = []\n",
    "        episode = 0\n",
    "        episode_cum_reward = 0\n",
    "        state = env.reset()\n",
    "        epsilon = self.epsilon_max\n",
    "        step = 0\n",
    "        while episode < max_episode:\n",
    "            # update epsilon\n",
    "            if step > self.epsilon_delay:\n",
    "                epsilon = max(self.epsilon_min, epsilon-self.epsilon_step)\n",
    "\n",
    "            # select epsilon-greedy action\n",
    "            if np.random.rand() < epsilon:\n",
    "                action = np.random.randint(self.nb_actions)\n",
    "            else:\n",
    "                action = greedy_action(self.model, state)\n",
    "\n",
    "            # step\n",
    "            next_state, reward, done, _ = env.step(action)\n",
    "            self.memory.append(state, action, reward, next_state, done)\n",
    "            episode_cum_reward += reward\n",
    "\n",
    "            # train\n",
    "            for _ in range(self.nb_gradient_steps): # NEW NEW NEW\n",
    "                self.gradient_step()\n",
    "\n",
    "            # update target network if needed\n",
    "            if step % self.update_target_freq == 0: # NEW NEW NEW\n",
    "                self.target_model.load_state_dict(self.model.state_dict())   \n",
    "            \n",
    "            # next transition\n",
    "            step += 1\n",
    "            if done:\n",
    "                episode += 1\n",
    "                print(\"Episode \", '{:3d}'.format(episode), \n",
    "                      \", epsilon \", '{:6.2f}'.format(epsilon), \n",
    "                      \", batch size \", '{:5d}'.format(len(self.memory)), \n",
    "                      \", episode return \", '{:4.1f}'.format(episode_cum_reward),\n",
    "                      sep='')\n",
    "                state = env.reset()\n",
    "                episode_return.append(episode_cum_reward)\n",
    "                episode_cum_reward = 0\n",
    "            else:\n",
    "                state = next_state\n",
    "\n",
    "        return episode_return"
   ]
  },
  {
   "cell_type": "code",
   "execution_count": 27,
   "metadata": {},
   "outputs": [
    {
     "name": "stdout",
     "output_type": "stream",
     "text": [
      "Episode   1, epsilon   1.00, batch size    19, episode return 19.0\n",
      "Episode   2, epsilon   0.99, batch size    33, episode return 14.0\n",
      "Episode   3, epsilon   0.97, batch size    56, episode return 23.0\n",
      "Episode   4, epsilon   0.95, batch size    68, episode return 12.0\n",
      "Episode   5, epsilon   0.93, batch size    91, episode return 23.0\n",
      "Episode   6, epsilon   0.92, batch size   105, episode return 14.0\n",
      "Episode   7, epsilon   0.91, batch size   115, episode return 10.0\n",
      "Episode   8, epsilon   0.84, batch size   183, episode return 68.0\n",
      "Episode   9, epsilon   0.80, batch size   220, episode return 37.0\n",
      "Episode  10, epsilon   0.78, batch size   241, episode return 21.0\n",
      "Episode  11, epsilon   0.76, batch size   268, episode return 27.0\n",
      "Episode  12, epsilon   0.74, batch size   287, episode return 19.0\n",
      "Episode  13, epsilon   0.71, batch size   311, episode return 24.0\n",
      "Episode  14, epsilon   0.68, batch size   341, episode return 30.0\n",
      "Episode  15, epsilon   0.67, batch size   359, episode return 18.0\n",
      "Episode  16, epsilon   0.65, batch size   378, episode return 19.0\n",
      "Episode  17, epsilon   0.62, batch size   404, episode return 26.0\n",
      "Episode  18, epsilon   0.51, batch size   513, episode return 109.0\n",
      "Episode  19, epsilon   0.47, batch size   561, episode return 48.0\n",
      "Episode  20, epsilon   0.45, batch size   574, episode return 13.0\n",
      "Episode  21, epsilon   0.38, batch size   650, episode return 76.0\n",
      "Episode  22, epsilon   0.34, batch size   683, episode return 33.0\n",
      "Episode  23, epsilon   0.31, batch size   715, episode return 32.0\n",
      "Episode  24, epsilon   0.30, batch size   731, episode return 16.0\n",
      "Episode  25, epsilon   0.13, batch size   896, episode return 165.0\n",
      "Episode  26, epsilon   0.01, batch size  1130, episode return 234.0\n",
      "Episode  27, epsilon   0.01, batch size  1347, episode return 217.0\n",
      "Episode  28, epsilon   0.01, batch size  1457, episode return 110.0\n",
      "Episode  29, epsilon   0.01, batch size  1527, episode return 70.0\n",
      "Episode  30, epsilon   0.01, batch size  1624, episode return 97.0\n",
      "Episode  31, epsilon   0.01, batch size  1719, episode return 95.0\n",
      "Episode  32, epsilon   0.01, batch size  1819, episode return 100.0\n",
      "Episode  33, epsilon   0.01, batch size  1943, episode return 124.0\n",
      "Episode  34, epsilon   0.01, batch size  2067, episode return 124.0\n",
      "Episode  35, epsilon   0.01, batch size  2168, episode return 101.0\n",
      "Episode  36, epsilon   0.01, batch size  2282, episode return 114.0\n",
      "Episode  37, epsilon   0.01, batch size  2391, episode return 109.0\n",
      "Episode  38, epsilon   0.01, batch size  2499, episode return 108.0\n",
      "Episode  39, epsilon   0.01, batch size  2940, episode return 441.0\n",
      "Episode  40, epsilon   0.01, batch size  3071, episode return 131.0\n",
      "Episode  41, epsilon   0.01, batch size  3571, episode return 500.0\n",
      "Episode  42, epsilon   0.01, batch size  3846, episode return 275.0\n",
      "Episode  43, epsilon   0.01, batch size  4346, episode return 500.0\n",
      "Episode  44, epsilon   0.01, batch size  4798, episode return 452.0\n",
      "Episode  45, epsilon   0.01, batch size  5242, episode return 444.0\n",
      "Episode  46, epsilon   0.01, batch size  5476, episode return 234.0\n",
      "Episode  47, epsilon   0.01, batch size  5629, episode return 153.0\n",
      "Episode  48, epsilon   0.01, batch size  5803, episode return 174.0\n",
      "Episode  49, epsilon   0.01, batch size  6006, episode return 203.0\n",
      "Episode  50, epsilon   0.01, batch size  6161, episode return 155.0\n"
     ]
    }
   ],
   "source": [
    "config = {'observation_space': cartpole.observation_space.shape[0],\n",
    "          'nb_actions': cartpole.action_space.n,\n",
    "          'learning_rate': 0.001,\n",
    "          'gamma': 0.95,\n",
    "          'buffer_size': 1000000,\n",
    "          'epsilon_min': 0.01,\n",
    "          'epsilon_max': 1.,\n",
    "          'epsilon_stop': 1000,\n",
    "          'epsilon_delay_decay': 20,\n",
    "          'batch_size': 20,\n",
    "          'gradient_steps': 10,\n",
    "          'update_target_freq': 100}\n",
    "\n",
    "agent = DQN_agent(config, DQN)\n",
    "scores = agent.train(cartpole, 50)"
   ]
  },
  {
   "cell_type": "code",
   "execution_count": 29,
   "metadata": {},
   "outputs": [
    {
     "data": {
      "image/png": "[encoded data removed]",
      "text/plain": [
       "<Figure size 432x288 with 1 Axes>"
      ]
     },
     "metadata": {
      "needs_background": "light"
     },
     "output_type": "display_data"
    }
   ],
   "source": [
    "plt.plot(scores);\n",
    "torch.save(DQN.state_dict(), \"cart_pole_dqn.pth\")"
   ]
  },
  {
   "cell_type": "code",
   "execution_count": 30,
   "metadata": {},
   "outputs": [
    {
     "name": "stdout",
     "output_type": "stream",
     "text": [
      "267\n"
     ]
    }
   ],
   "source": [
    "DQN.load_state_dict(torch.load(\"cart_pole_dqn.pth\"))\n",
    "x = cartpole.reset()\n",
    "cartpole.render()\n",
    "for i in range(1000):\n",
    "    a = greedy_action(DQN, x)\n",
    "    y, _, d, _ = cartpole.step(a)\n",
    "    cartpole.render()\n",
    "    x=y\n",
    "    if d:\n",
    "        print(i)\n",
    "        break\n",
    "\n",
    "cartpole.close()"
   ]
  },
  {
   "cell_type": "markdown",
   "metadata": {},
   "source": [
    "# <a id=\"sec6\"></a> Metrics\n",
    "\n",
    "Let's take a step back to reflect about what we really measure in the experiment above. We have counted the number of steps per training episode. But during these episodes, the applied policy was $\\epsilon$-greedy, not greedy. So this is not an objective measure of performance.\n",
    "\n",
    "On the other hand, what is really being optimized here is the average sum of discounted rewards.\n",
    "\n",
    "<div class=\"alert alert-warning\">\n",
    "    \n",
    "**Exercice:** enhance your previous code with the monitoring, after each episode, of:\n",
    "- the number of steps of the training episode\n",
    "- a Monte Carlo estimate of the total sum of rewards from the (distribution of) starting state,\n",
    "- a Monte Carlo estimate of the sum of discounted rewards from the (distribution of) starting state,\n",
    "- an average, over possible starting states $s_0$ of the current $\\max_a Q(s_0,a)$.\n",
    "\n",
    "Use this monitoring to plot these values versus the number of episodes, after training.\n",
    "</div>"
   ]
  },
  {
   "cell_type": "code",
   "execution_count": null,
   "metadata": {},
   "outputs": [],
   "source": [
    "# YOUR DQN CODE WITH MONITORING"
   ]
  },
  {
   "cell_type": "code",
   "execution_count": 31,
   "metadata": {},
   "outputs": [],
   "source": [
    "# Let's reset the Q function\n",
    "\n",
    "import torch\n",
    "import torch.nn as nn\n",
    "\n",
    "device = torch.device(\"cuda\" if torch.cuda.is_available() else \"cpu\")\n",
    "\n",
    "state_dim = cartpole.observation_space.shape[0]\n",
    "n_action = cartpole.action_space.n \n",
    "nb_neurons=24\n",
    "\n",
    "DQN = torch.nn.Sequential(nn.Linear(state_dim, nb_neurons),\n",
    "                          nn.ReLU(),\n",
    "                          nn.Linear(nb_neurons, nb_neurons),\n",
    "                          nn.ReLU(), \n",
    "                          nn.Linear(nb_neurons, n_action)).to(device)"
   ]
  },
  {
   "cell_type": "code",
   "execution_count": 32,
   "metadata": {},
   "outputs": [],
   "source": [
    "import numpy as np\n",
    "import torch\n",
    "import torch.nn as nn\n",
    "from copy import deepcopy\n",
    "\n",
    "class DQN_agent:\n",
    "    def __init__(self, config, model):\n",
    "        self.gamma = config['gamma']\n",
    "        self.batch_size = config['batch_size']\n",
    "        self.nb_actions = config['nb_actions']\n",
    "        self.memory = ReplayBuffer(config['buffer_size'])\n",
    "        self.epsilon_max = config['epsilon_max']\n",
    "        self.epsilon_min = config['epsilon_min']\n",
    "        self.epsilon_stop = config['epsilon_stop']\n",
    "        self.epsilon_delay = config['epsilon_delay_decay']\n",
    "        self.epsilon_step = (self.epsilon_max-self.epsilon_min)/self.epsilon_stop\n",
    "        self.nb_gradient_steps = config['gradient_steps']\n",
    "        self.nb_trials = config['nb_trials'] # NEW NEW NEW\n",
    "        self.total_steps = 0\n",
    "        self.model = model \n",
    "        self.criterion = torch.nn.SmoothL1Loss()\n",
    "        self.optimizer = torch.optim.Adam(self.model.parameters(), lr=config['learning_rate'])\n",
    "        self.target_model = deepcopy(self.model).to(device)\n",
    "        self.update_target_freq = config['update_target_freq']\n",
    "\n",
    "    def MC_eval(self, env, nb_trials):  # NEW NEW NEW\n",
    "        MC_total_reward = []\n",
    "        MC_discounted_reward = []\n",
    "        for _ in range(nb_trials):\n",
    "            x = cartpole.reset()\n",
    "            done = False\n",
    "            total_reward = 0\n",
    "            discounted_reward = 0\n",
    "            step = 0\n",
    "            while not done:\n",
    "                a = greedy_action(self.model, x)\n",
    "                y,r,done,_ = cartpole.step(a)\n",
    "                x = y\n",
    "                total_reward += r\n",
    "                discounted_reward += self.gamma**step * r\n",
    "                step += 1\n",
    "            MC_total_reward.append(total_reward)\n",
    "            MC_discounted_reward.append(discounted_reward)\n",
    "        return np.mean(MC_discounted_reward), np.mean(MC_total_reward)\n",
    "    \n",
    "    def eval_init_state(self, env, nb_trials):   # NEW NEW NEW\n",
    "        with torch.no_grad():\n",
    "            for _ in range(nb_trials):\n",
    "                val = []\n",
    "                x = env.reset()\n",
    "                val.append(self.model(torch.Tensor(x).unsqueeze(0).to(device)).max().item())\n",
    "        return np.mean(val)\n",
    "    \n",
    "    def gradient_step(self):\n",
    "        if len(self.memory) > self.batch_size:\n",
    "            X, A, R, Y, D = self.memory.sample(self.batch_size)\n",
    "            QX = self.model(X)\n",
    "            QY = self.target_model(Y)\n",
    "            QYmax = torch.max(QY, axis=1)[0]\n",
    "            update = QX\n",
    "            A = A.to(torch.long)\n",
    "            update[torch.arange(self.batch_size), A] = torch.addcmul(R, self.gamma, 1-D, QYmax)\n",
    "\n",
    "            loss = self.criterion(self.model(X), update)\n",
    "            self.optimizer.zero_grad()\n",
    "            loss.backward()\n",
    "            self.optimizer.step() \n",
    "    \n",
    "    def train(self, env, max_episode):\n",
    "        # Training monitoring\n",
    "        episode_return = []\n",
    "        MC_avg_total_reward = []   # NEW NEW NEW\n",
    "        MC_avg_discounted_reward = []   # NEW NEW NEW\n",
    "        avg_Q_init_state = []   # NEW NEW NEW\n",
    "        \n",
    "        # Initialization\n",
    "        episode = 0\n",
    "        episode_cum_reward = 0\n",
    "        state = env.reset()\n",
    "        epsilon = self.epsilon_max\n",
    "        step = 0\n",
    "        while episode < max_episode:\n",
    "            # update epsilon\n",
    "            if step > self.epsilon_delay:\n",
    "                max(self.epsilon_min, epsilon-self.epsilon_step)\n",
    "\n",
    "            # select epsilon-greedy action\n",
    "            if np.random.rand() < epsilon:\n",
    "                action = np.random.randint(self.nb_actions)\n",
    "            else:\n",
    "                action = greedy_action(self.model, state)\n",
    "\n",
    "            # step\n",
    "            next_state, reward, done, _ = env.step(action)\n",
    "            self.memory.append(state, action, reward, next_state, done)\n",
    "            episode_cum_reward += reward\n",
    "\n",
    "            # train\n",
    "            for _ in range(self.nb_gradient_steps):\n",
    "                self.gradient_step()\n",
    "\n",
    "            # update target network if needed\n",
    "            if step % self.update_target_freq == 0:\n",
    "                self.target_model.load_state_dict(self.model.state_dict())   \n",
    "            \n",
    "            # next transition\n",
    "            step += 1\n",
    "            if done:\n",
    "                episode += 1\n",
    "                \n",
    "                # Monitoring\n",
    "                if self.nb_trials>0:\n",
    "                    MC_dr, MC_tr = self.MC_eval(env, self.nb_trials)    # NEW NEW NEW\n",
    "                    Q0 = self.eval_init_state(env, self.nb_trials)   # NEW NEW NEW\n",
    "                    MC_avg_total_reward.append(MC_tr)   # NEW NEW NEW\n",
    "                    MC_avg_discounted_reward.append(MC_dr)   # NEW NEW NEW\n",
    "                    avg_Q_init_state.append(Q0)   # NEW NEW NEW\n",
    "                    episode_return.append(episode_cum_reward)   # NEW NEW NEW\n",
    "                    print(\"Episode \", '{:2d}'.format(episode), \n",
    "                          \", epsilon \", '{:6.2f}'.format(epsilon), \n",
    "                          \", batch size \", '{:4d}'.format(len(self.memory)), \n",
    "                          \", ep return \", '{:4.1f}'.format(episode_cum_reward), \n",
    "                          \", MC tot \", '{:6.2f}'.format(MC_tr),\n",
    "                          \", MC disc \", '{:6.2f}'.format(MC_dr),\n",
    "                          \", Q0 \", '{:6.2f}'.format(Q0),\n",
    "                          sep='')\n",
    "                else:\n",
    "                    episode_return.append(episode_cum_reward)\n",
    "                    print(\"Episode \", '{:2d}'.format(episode), \n",
    "                          \", epsilon \", '{:6.2f}'.format(epsilon), \n",
    "                          \", batch size \", '{:4d}'.format(len(self.memory)), \n",
    "                          \", ep return \", '{:4.1f}'.format(episode_cum_reward), \n",
    "                          sep='')\n",
    "                \n",
    "                # Start new episode\n",
    "                state = env.reset()\n",
    "                episode_cum_reward = 0\n",
    "            else:\n",
    "                state = next_state\n",
    "\n",
    "        return episode_return, MC_avg_discounted_reward, MC_avg_total_reward, avg_Q_init_state"
   ]
  },
  {
   "cell_type": "code",
   "execution_count": 33,
   "metadata": {},
   "outputs": [
    {
     "name": "stdout",
     "output_type": "stream",
     "text": [
      "Episode  1, epsilon   1.00, batch size   27, ep return 27.0, MC tot   9.30, MC disc   7.58, Q0   0.48\n",
      "Episode  2, epsilon   1.00, batch size   51, ep return 24.0, MC tot  49.00, MC disc  17.62, Q0   0.99\n",
      "Episode  3, epsilon   1.00, batch size  105, ep return 54.0, MC tot   9.34, MC disc   7.60, Q0   1.78\n",
      "Episode  4, epsilon   1.00, batch size  119, ep return 14.0, MC tot   9.24, MC disc   7.54, Q0   1.98\n",
      "Episode  5, epsilon   1.00, batch size  144, ep return 25.0, MC tot   9.42, MC disc   7.66, Q0   1.93\n",
      "Episode  6, epsilon   1.00, batch size  166, ep return 22.0, MC tot   9.70, MC disc   7.82, Q0   1.95\n",
      "Episode  7, epsilon   1.00, batch size  176, ep return 10.0, MC tot   9.32, MC disc   7.59, Q0   1.95\n",
      "Episode  8, epsilon   1.00, batch size  193, ep return 17.0, MC tot   9.52, MC disc   7.72, Q0   1.89\n",
      "Episode  9, epsilon   1.00, batch size  268, ep return 75.0, MC tot 149.80, MC disc  19.66, Q0   2.90\n",
      "Episode 10, epsilon   1.00, batch size  300, ep return 32.0, MC tot  55.02, MC disc  17.90, Q0   2.90\n",
      "Episode 11, epsilon   1.00, batch size  369, ep return 69.0, MC tot  87.96, MC disc  19.41, Q0   3.88\n",
      "Episode 12, epsilon   1.00, batch size  383, ep return 14.0, MC tot 112.98, MC disc  19.56, Q0   3.88\n",
      "Episode 13, epsilon   1.00, batch size  416, ep return 33.0, MC tot 182.96, MC disc  19.76, Q0   4.67\n",
      "Episode 14, epsilon   1.00, batch size  432, ep return 16.0, MC tot 207.52, MC disc  19.99, Q0   4.70\n",
      "Episode 15, epsilon   1.00, batch size  449, ep return 17.0, MC tot 210.44, MC disc  19.99, Q0   4.76\n",
      "Episode 16, epsilon   1.00, batch size  515, ep return 66.0, MC tot 182.90, MC disc  19.99, Q0   5.51\n",
      "Episode 17, epsilon   1.00, batch size  533, ep return 18.0, MC tot 192.60, MC disc  20.00, Q0   5.46\n",
      "Episode 18, epsilon   1.00, batch size  562, ep return 29.0, MC tot 151.04, MC disc  19.99, Q0   5.42\n",
      "Episode 19, epsilon   1.00, batch size  580, ep return 18.0, MC tot 192.68, MC disc  20.00, Q0   5.46\n",
      "Episode 20, epsilon   1.00, batch size  591, ep return 11.0, MC tot 221.22, MC disc  20.00, Q0   5.40\n",
      "Episode 21, epsilon   1.00, batch size  604, ep return 13.0, MC tot 240.94, MC disc  20.00, Q0   6.31\n",
      "Episode 22, epsilon   1.00, batch size  631, ep return 27.0, MC tot 167.12, MC disc  19.99, Q0   6.28\n",
      "Episode 23, epsilon   1.00, batch size  663, ep return 32.0, MC tot 267.16, MC disc  20.00, Q0   6.22\n",
      "Episode 24, epsilon   1.00, batch size  680, ep return 17.0, MC tot 183.66, MC disc  19.99, Q0   6.31\n",
      "Episode 25, epsilon   1.00, batch size  701, ep return 21.0, MC tot 248.56, MC disc  20.00, Q0   6.27\n",
      "Episode 26, epsilon   1.00, batch size  716, ep return 15.0, MC tot 231.60, MC disc  20.00, Q0   7.06\n",
      "Episode 27, epsilon   1.00, batch size  728, ep return 12.0, MC tot 150.44, MC disc  19.98, Q0   6.99\n",
      "Episode 28, epsilon   1.00, batch size  749, ep return 21.0, MC tot 187.30, MC disc  19.99, Q0   6.95\n",
      "Episode 29, epsilon   1.00, batch size  762, ep return 13.0, MC tot 252.70, MC disc  20.00, Q0   7.04\n",
      "Episode 30, epsilon   1.00, batch size  776, ep return 14.0, MC tot 254.40, MC disc  20.00, Q0   6.89\n"
     ]
    }
   ],
   "source": [
    "config = {'observation_space': cartpole.observation_space.shape[0],\n",
    "          'nb_actions': cartpole.action_space.n,\n",
    "          'learning_rate': 0.001,\n",
    "          'gamma': 0.95,\n",
    "          'buffer_size': 1000000,\n",
    "          'epsilon_min': 0.01,\n",
    "          'epsilon_max': 1.,\n",
    "          'epsilon_stop': 1000,\n",
    "          'epsilon_delay_decay': 20,\n",
    "          'batch_size': 20,\n",
    "          'gradient_steps': 10,\n",
    "          'update_target_freq': 100,\n",
    "          'nb_trials': 50}\n",
    "\n",
    "agent = DQN_agent(config, DQN)\n",
    "ep_length, disc_rewards, tot_rewards, Q0 = agent.train(cartpole, 30)"
   ]
  },
  {
   "cell_type": "code",
   "execution_count": 34,
   "metadata": {
    "scrolled": true
   },
   "outputs": [
    {
     "data": {
      "image/png": "[encoded data removed]",
      "text/plain": [
       "<Figure size 432x288 with 1 Axes>"
      ]
     },
     "metadata": {
      "needs_background": "light"
     },
     "output_type": "display_data"
    },
    {
     "data": {
      "image/png": "[encoded data removed]",
      "text/plain": [
       "<Figure size 432x288 with 1 Axes>"
      ]
     },
     "metadata": {
      "needs_background": "light"
     },
     "output_type": "display_data"
    }
   ],
   "source": [
    "plt.plot(ep_length, label=\"training episode length\")\n",
    "plt.plot(tot_rewards, label=\"MC eval of total reward\")\n",
    "plt.legend()\n",
    "plt.figure()\n",
    "plt.plot(disc_rewards, label=\"MC eval of discounted reward\")\n",
    "plt.plot(Q0, label=\"average $max_a Q(s_0)$\")\n",
    "plt.legend();"
   ]
  },
  {
   "cell_type": "markdown",
   "metadata": {},
   "source": [
    "Remarks on CartPole:\n",
    "- Have you noted that Q overestimates the true value of the optimal policy? More on this in [this paper](https://papers.nips.cc/paper/3964-double-q-learning) if you are interested.\n",
    "- Have you noted that the greedy policy is optimal much sooner than the $Q$ function?\n",
    "- Have you remarked that the greedy policy performs well much sooner than the agent's policy (which is $\\epsilon$-greedy)?\n",
    "- Can you anticipate the importance of well tuned exploration, for instance if the state space is much larger, or if parts of it are very hard to reach?\n",
    "- Can you anticipate the effect of taking a larger $\\gamma$?"
   ]
  },
  {
   "cell_type": "markdown",
   "metadata": {},
   "source": [
    "Remarks on SwingUp:\n",
    "- Did your DQN learn to avoid the -10 penalty instead of swinging up? The exploration question becomes a crucial issue, doesn't it?"
   ]
  },
  {
   "cell_type": "code",
   "execution_count": 35,
   "metadata": {
    "scrolled": true
   },
   "outputs": [
    {
     "name": "stdout",
     "output_type": "stream",
     "text": [
      "Episode  1, epsilon   1.00, batch size  111, ep return 84.0\n",
      "Episode  2, epsilon   1.00, batch size  224, ep return 67.0\n",
      "Episode  3, epsilon   1.00, batch size  346, ep return 100.0\n",
      "Episode  4, epsilon   1.00, batch size  690, ep return 305.0\n",
      "Episode  5, epsilon   1.00, batch size  781, ep return 68.0\n",
      "Episode  6, epsilon   1.00, batch size 1315, ep return 465.0\n",
      "Episode  7, epsilon   1.00, batch size 1658, ep return 300.0\n",
      "Episode  8, epsilon   1.00, batch size 1751, ep return 69.0\n",
      "Episode  9, epsilon   1.00, batch size 1817, ep return 45.0\n",
      "Episode 10, epsilon   1.00, batch size 1994, ep return 151.0\n",
      "Episode 11, epsilon   1.00, batch size 2477, ep return 421.0\n",
      "Episode 12, epsilon   1.00, batch size 2554, ep return 34.0\n",
      "Episode 13, epsilon   1.00, batch size 2696, ep return 120.0\n",
      "Episode 14, epsilon   1.00, batch size 2847, ep return 120.0\n",
      "Episode 15, epsilon   1.00, batch size 3258, ep return 374.0\n",
      "Episode 16, epsilon   1.00, batch size 3366, ep return 78.0\n",
      "Episode 17, epsilon   1.00, batch size 3468, ep return 47.0\n",
      "Episode 18, epsilon   1.00, batch size 3648, ep return 147.0\n",
      "Episode 19, epsilon   1.00, batch size 3756, ep return 56.0\n",
      "Episode 20, epsilon   1.00, batch size 3984, ep return 193.0\n",
      "Episode 21, epsilon   1.00, batch size 4385, ep return 354.0\n",
      "Episode 22, epsilon   1.00, batch size 4564, ep return 143.0\n",
      "Episode 23, epsilon   1.00, batch size 4694, ep return 73.0\n",
      "Episode 24, epsilon   1.00, batch size 4836, ep return 106.0\n",
      "Episode 25, epsilon   1.00, batch size 5005, ep return 134.0\n",
      "Episode 26, epsilon   1.00, batch size 5148, ep return 122.0\n",
      "Episode 27, epsilon   1.00, batch size 5244, ep return 77.0\n",
      "Episode 28, epsilon   1.00, batch size 5452, ep return 165.0\n",
      "Episode 29, epsilon   1.00, batch size 5587, ep return 112.0\n",
      "Episode 30, epsilon   1.00, batch size 5969, ep return 355.0\n"
     ]
    }
   ],
   "source": [
    "# Now let's train on swingup\n",
    "\n",
    "config = {'observation_space': swingup.observation_space.shape[0],\n",
    "          'nb_actions': swingup.action_space.n,\n",
    "          'learning_rate': 0.001,\n",
    "          'gamma': 0.95,\n",
    "          'buffer_size': 1000000,\n",
    "          'epsilon_min': 0.01,\n",
    "          'epsilon_max': 1.,\n",
    "          'epsilon_stop': 10000,\n",
    "          'epsilon_delay_decay': 100,\n",
    "          'batch_size': 20,\n",
    "          'gradient_steps': 10,\n",
    "          'update_target_freq': 100,\n",
    "          'nb_trials': 0}\n",
    "\n",
    "DQN = torch.nn.Sequential(nn.Linear(swingup.observation_space.shape[0], 24),\n",
    "                          nn.ReLU(),\n",
    "                          nn.Linear(24, 24),\n",
    "                          nn.ReLU(), \n",
    "                          nn.Linear(24, swingup.action_space.n)).to(device)\n",
    "\n",
    "#DQN.load_state_dict(torch.load(\"cart_pole_dqn.pth\"))\n",
    "\n",
    "agent = DQN_agent(config, DQN)\n",
    "ep_length, disc_rewards, tot_rewards, Q0 = agent.train(swingup, 30)\n",
    "torch.save(DQN.state_dict(), \"swingup_dqn.pth\")"
   ]
  },
  {
   "cell_type": "code",
   "execution_count": 36,
   "metadata": {},
   "outputs": [
    {
     "name": "stdout",
     "output_type": "stream",
     "text": [
      "37\n",
      "19.0\n"
     ]
    }
   ],
   "source": [
    "DQN.load_state_dict(torch.load(\"swingup_dqn.pth\"))\n",
    "x = swingup.reset()\n",
    "swingup.render()\n",
    "tot_rew = 0\n",
    "for i in range(1000):\n",
    "    a = greedy_action(DQN, x)\n",
    "    y, r, d, _ = swingup.step(a)\n",
    "    swingup.render()\n",
    "    x=y\n",
    "    tot_rew += r\n",
    "    if d:\n",
    "        break\n",
    "\n",
    "print(i)\n",
    "print(tot_rew)\n",
    "\n",
    "swingup.close()"
   ]
  },
  {
   "cell_type": "markdown",
   "metadata": {},
   "source": [
    "# <a id=\"sec7\"></a>DQN on image-based tasks\n",
    "\n",
    "Now it's time to turn towards Pong. As you noted earlier, the frame information in Pong is not sufficient to define an MDP, but stacking several frames together allows to recover the Markov property.\n",
    "\n",
    "we could wish to modify the previous replay buffer so that frames are stored only once (for memory efficiency). Then this new replay buffer would still need to return stacks of 4 frames when `sample()` is called.\n",
    "\n",
    "Fortunately, there's a simpler way to do that.\n",
    "We can use a wrapper (provided by Gym in this case) so that calling env.step(a) returns a stack of 4 frames.\n",
    "This wrapper actually only stores each frame once which optimizes memory efficiency. This way, we can keep on using our previous replay buffer class."
   ]
  },
  {
   "cell_type": "code",
   "execution_count": null,
   "metadata": {},
   "outputs": [],
   "source": [
    "from gym.wrappers import  FrameStack\n",
    "pong = FrameStack(pong, 4)"
   ]
  },
  {
   "cell_type": "code",
   "execution_count": null,
   "metadata": {},
   "outputs": [],
   "source": [
    "x = pong.reset()\n",
    "print(torch.Tensor(x).shape)"
   ]
  },
  {
   "cell_type": "markdown",
   "metadata": {},
   "source": [
    "The two DQN papers ([Playing Atari with Deep Reinforcement Learning](https://arxiv.org/abs/1312.5602) and [Human-level control through deep reinforcement learning](https://deepmind.com/research/publications/human-level-control-through-deep-reinforcement-learning)) actually introduce two different neural network architectures.\n",
    "\n",
    "The 2013 paper uses this architecture:\n",
    "- input: $84\\times 84\\times 4$ image (the last 4 frames)\n",
    "- layer 1: Convolutions with 16 filters of size $8\\times 8$ and stride 4. The activation is a ReLU function.\n",
    "- layer 2: Convolutions with 32 filters of size $4\\times 4$ and stride 2. The activation is a ReLU function.\n",
    "- layer 3: Fully connected with 256 ReLU units\n",
    "- layer 4 (output): Fully connected with 2 linear units (one for each action's value)\n",
    "\n",
    "The 2015 paper \n",
    "- input: $84\\times 84\\times 4$ image (the last 4 frames)\n",
    "- layer 1: Convolutions with 32 filters of size $8\\times 8$ and stride 4. The activation is a ReLU function.\n",
    "- layer 2: Convolutions with 64 filters of size $4\\times 4$ and stride 2. The activation is a ReLU function.\n",
    "- layer 3: Convolutions with 64 filters of size $3\\times 3$ and stride 1. The activation is a ReLU function.\n",
    "- layer 4: Fully connected with 512 ReLU units\n",
    "- layer 5 (output): Fully connected with 2 linear units (one for each action's value)\n",
    "\n",
    "Also, it is a good practice to pre-fill the replay buffer with randomly sampled experience. The 2015 paper runs a random policy for 50000 steps to feed the replay buffer before training.\n",
    "\n",
    "<div class=\"alert alert-warning\">\n",
    "    \n",
    "**Exercice:** Create the corresponding neural network and adapt your optimization code from the previous exercice to train on Pong (you can take $C$ much larger, in the order of $10000$).\n",
    "</div>\n",
    "Caveat: unless you have a GPU and a fair amount of time ahead of you, it is recommended to run this computation on a cloud computing service (or on a dediated machine)."
   ]
  },
  {
   "cell_type": "code",
   "execution_count": null,
   "metadata": {},
   "outputs": [],
   "source": [
    "# YOUR DQN CODE FOR PONG"
   ]
  },
  {
   "cell_type": "code",
   "execution_count": null,
   "metadata": {},
   "outputs": [],
   "source": [
    "class AtariCNN(nn.Module):\n",
    "    def __init__(self, in_channels=4, n_actions=2):\n",
    "        super(AtariCNN, self).__init__()\n",
    "        self.conv1 = nn.Conv2d(in_channels, 32, kernel_size=8, stride=4)\n",
    "        self.conv2 = nn.Conv2d(32, 64, kernel_size=4, stride=2)\n",
    "        self.conv3 = nn.Conv2d(64, 64, kernel_size=3, stride=1)\n",
    "        self.fc4 = nn.Linear(7 * 7 * 64, 512)\n",
    "        self.head = nn.Linear(512, n_actions)\n",
    "      \n",
    "    def forward(self, x):\n",
    "        x = F.relu(self.conv1(x))\n",
    "        x = F.relu(self.conv2(x))\n",
    "        x = F.relu(self.conv3(x))\n",
    "        x = F.relu(self.fc4(x.view(x.size(0), -1)))\n",
    "        return self.head(x)"
   ]
  },
  {
   "cell_type": "code",
   "execution_count": null,
   "metadata": {},
   "outputs": [],
   "source": [
    "from tqdm import trange\n",
    "\n",
    "config = {'observation_space': cartpole.observation_space.shape[0],\n",
    "          'nb_actions': cartpole.action_space.n,\n",
    "          'learning_rate': 0.001,\n",
    "          'gamma': 0.95,\n",
    "          'buffer_size': 1000000,\n",
    "          'epsilon_min': 0.1,\n",
    "          'epsilon_max': 1.,\n",
    "          'epsilon_stop': 1000000,\n",
    "          'epsilon_delay_decay': 0,\n",
    "          'batch_size': 32,\n",
    "          'gradient_steps': 10,\n",
    "          'update_target_freq': 10000,\n",
    "          'nb_trials': 0}\n",
    "\n",
    "AtariDQN = AtariCNN()\n",
    "\n",
    "agent = DQN_agent(config, DQN)\n",
    "\n",
    "# pre-fill the replay buffer\n",
    "x = pong.reset()\n",
    "for t in trange(50000):\n",
    "    a = np.random.randint(2)\n",
    "    y, r, d, _ = pong.step(a)\n",
    "    agent.memory.append(x, a, r, y, d)\n",
    "    if d:\n",
    "        x = pong.reset()\n",
    "    else:\n",
    "        x = y\n",
    "\n",
    "# train\n",
    "ep_length, disc_rewards, tot_rewards, Q0 = agent.train(cartpole, 30)"
   ]
  },
  {
   "cell_type": "markdown",
   "metadata": {},
   "source": [
    "To give you an idea of the behavior of a trained agent, you can check the following videos."
   ]
  },
  {
   "cell_type": "code",
   "execution_count": 37,
   "metadata": {},
   "outputs": [
    {
     "data": {
      "image/jpeg": "[encoded data removed]",
      "text/html": [
       "\n",
       "        <iframe\n",
       "            width=\"400\"\n",
       "            height=\"300\"\n",
       "            src=\"https://www.youtube.com/embed/p88R2_3yWPA\"\n",
       "            frameborder=\"0\"\n",
       "            allowfullscreen\n",
       "        ></iframe>\n",
       "        "
      ],
      "text/plain": [
       "<IPython.lib.display.YouTubeVideo at 0x7f5900446810>"
      ]
     },
     "execution_count": 37,
     "metadata": {},
     "output_type": "execute_result"
    }
   ],
   "source": [
    "from IPython.display import YouTubeVideo\n",
    "YouTubeVideo(\"p88R2_3yWPA\")"
   ]
  },
  {
   "cell_type": "code",
   "execution_count": 38,
   "metadata": {},
   "outputs": [
    {
     "data": {
      "image/jpeg": "[encoded data removed]",
      "text/html": [
       "\n",
       "        <iframe\n",
       "            width=\"400\"\n",
       "            height=\"300\"\n",
       "            src=\"https://www.youtube.com/embed/TmPfTpjtdgg\"\n",
       "            frameborder=\"0\"\n",
       "            allowfullscreen\n",
       "        ></iframe>\n",
       "        "
      ],
      "text/plain": [
       "<IPython.lib.display.YouTubeVideo at 0x7f5900321b90>"
      ]
     },
     "execution_count": 38,
     "metadata": {},
     "output_type": "execute_result"
    }
   ],
   "source": [
    "YouTubeVideo(\"TmPfTpjtdgg\")"
   ]
  },
  {
   "cell_type": "markdown",
   "metadata": {},
   "source": [
    "# <a id=\"sec7\"></a>Going further\n",
    "\n",
    "A lot of contributions have built on the initial success of DQN. Among those, some are combined and discussed in the **[Rainbow: Combining Improvements in Deep Reinforcement Learning](https://arxiv.org/abs/1710.02298)** paper. We will simply summarize their key ideas here, by decreasing order of importance (according to the paper).\n",
    "\n",
    "- N-step returns. Use samples that accumulate several returns rather than the 1-step return of TD(0).\n",
    "- [Prioritized experience replay](https://arxiv.org/abs/1511.05952). Inspired by the model-based Prioritized Sweeping approach, bias the distribution used to sample mini-batches in order to present high residual samples to the optimizer. This accelerates the convergence in $L_\\infty$ norm.\n",
    "- [Distributional value functions](https://arxiv.org/abs/1707.06887). Instead of estimating $\\mathbb{E}(\\sum_t r_t)$, estimate the distribution of $\\sum_t r_t$ and iterate on it.\n",
    "- [NoisyNet](https://arxiv.org/abs/1706.10295). Instead of an $\\epsilon$-greedy exploration strategy, introduce noise in the network's parameters to drive the exploration.\n",
    "- [Dueling architecture](https://arxiv.org/abs/1511.06581). The neural network's architecture splits $Q$ into the estimation of a value $V(s)$ and an advantage $A(s,a)$ with shared first layers.\n",
    "- [Double Q-learning](https://arxiv.org/abs/1509.06461). Q-learning is prone to over-estimation of the true optimal Q function (especially in high variance environments). Double Q-learning aims at compensating this weakness by introducing an under-estimation mechanism based on a second Q function.\n",
    "\n",
    "Beyond these improvements, new work is published each year that lead to better understanding of the interplay between Deep Learning and RL."
   ]
  },
  {
   "cell_type": "code",
   "execution_count": null,
   "metadata": {},
   "outputs": [],
   "source": []
  }
 ],
 "metadata": {
  "kernelspec": {
   "display_name": "Python 3",
   "language": "python",
   "name": "python3"
  },
  "language_info": {
   "codemirror_mode": {
    "name": "ipython",
    "version": 3
   },
   "file_extension": ".py",
   "mimetype": "text/x-python",
   "name": "python",
   "nbconvert_exporter": "python",
   "pygments_lexer": "ipython3",
   "version": "3.7.4"
  }
 },
 "nbformat": 4,
 "nbformat_minor": 2
}

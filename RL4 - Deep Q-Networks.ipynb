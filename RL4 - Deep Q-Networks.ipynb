{
 "cells": [
  {
   "cell_type": "markdown",
   "metadata": {},
   "source": [
    "**Class 4: Deep Q Networks.**\n",
    "\n",
    "1. <a href=\"#sec1\">Environments</a>\n",
    "    1. <a href=\"#sec1.1\">Cartpole</a>\n",
    "    2. <a href=\"#sec1.2\">Cartpole swing-up</a>\n",
    "    3. <a href=\"#sec1.3\">Pong</a>\n",
    "2. <a href=\"#sec2\">Value Iteration as a sequence of Supervized Learning problems</a>\n",
    "3. <a href=\"#sec3\">Experience Replay</a>\n",
    "4. <a href=\"#sec4\">A deep Q-network</a>\n",
    "5. <a href=\"#sec5\">Making DQN more efficient</a>\n",
    "    1. <a href=\"#sec5.1\">Target network</a>\n",
    "    2. <a href=\"#sec5.2\">Error clipping</a>\n",
    "6. <a href=\"#sec6\">DQN on image-based tasks</a>\n",
    "9. <a href=\"#sec7\">Going further</a>\n",
    "\n",
    "Let's start with this quote:\n",
    "\n",
    "> The idea that we learn by interacting with our environment is probably the first to occur to us when we think about the nature of learning. When an infant plays, waves its arms, or looks about, it has no explicit teacher, but it does have a direct sensorimotor connection to its environment. Exercising this connection produces a wealth of information about cause and effect, about the consequences of actions, and about what to do in order to achieve goals. Throughout our lives, such interactions are undoubtedly a major source of knowledge about our environment and ourselves. Whether we are learning to drive a car or to hold a conversation, we are acutely aware of how our environment responds to what we do, and we seek to influence what happens through our behavior. Learning from interaction is a foundational idea underlying nearly all theories of learning and intelligence. (Richard S. Sutton)"
   ]
  },
  {
   "cell_type": "markdown",
   "metadata": {},
   "source": [
    "# <a id=sec1></a> Environments\n",
    "\n",
    "In this session, we will work with three different environments:\n",
    "- CartPole\n",
    "- A modified version of CartPole\n",
    "- Pong"
   ]
  },
  {
   "cell_type": "code",
   "execution_count": 1,
   "metadata": {},
   "outputs": [],
   "source": [
    "import gym\n",
    "import numpy as np\n",
    "%matplotlib inline\n",
    "import matplotlib.pyplot as plt\n",
    "gym.logger.set_level(gym.logger.DISABLED)"
   ]
  },
  {
   "cell_type": "markdown",
   "metadata": {},
   "source": [
    "## <a id=sec1.1></a>CartPole"
   ]
  },
  {
   "cell_type": "code",
   "execution_count": 2,
   "metadata": {},
   "outputs": [],
   "source": [
    "cartpole = gym.make('CartPole-v1')\n"
   ]
  },
  {
   "cell_type": "markdown",
   "metadata": {},
   "source": [
    "From the [OpenAI Gym website](https://gym.openai.com/envs/CartPole-v0/)\n",
    "\n",
    "> A pole is attached by an un-actuated joint to a cart, which moves along a frictionless track. The system is controlled by applying a force of +1 or -1 to the cart. The pendulum starts upright, and the goal is to prevent it from falling over. A reward of +1 is provided for every timestep that the pole remains upright. The episode ends when the pole is more than 15 degrees from vertical, or the cart moves more than 2.4 units from the center."
   ]
  },
  {
   "cell_type": "code",
   "execution_count": 3,
   "metadata": {},
   "outputs": [
    {
     "name": "stdout",
     "output_type": "stream",
     "text": [
      "Discrete(2)\n",
      "Box(4,)\n",
      "{'render.modes': ['human', 'rgb_array'], 'video.frames_per_second': 50}\n"
     ]
    }
   ],
   "source": [
    "print(cartpole.action_space)\n",
    "print(cartpole.observation_space)\n",
    "print(cartpole.env.metadata)"
   ]
  },
  {
   "cell_type": "code",
   "execution_count": 4,
   "metadata": {},
   "outputs": [
    {
     "name": "stdout",
     "output_type": "stream",
     "text": [
      "[-0.03308585  0.03829837 -0.02751787 -0.00143862]\n",
      "47\n"
     ]
    }
   ],
   "source": [
    "x = cartpole.reset()\n",
    "print(x)\n",
    "cartpole.render()\n",
    "for i in range(1000):\n",
    "    _,_,d,_ = cartpole.step(np.random.randint(2))\n",
    "    cartpole.render()\n",
    "    if d:\n",
    "        print(i)\n",
    "        break\n",
    "cartpole.close()"
   ]
  },
  {
   "cell_type": "markdown",
   "metadata": {},
   "source": [
    "## <a id=sec1.2></a>CartPole Swing-up\n",
    "\n",
    "The idea here is to keep the same environment, but instead of learning how to stabilize it around the unstable equilibrium point, we'd like to learn to swing it up. Here are the changes:\n",
    "- `reset` now puts the pole pointing down. The initial state is $(0,0,\\pi,0)$ plus a vector of four uniformly random values in [-0.05,0.05].\n",
    "- `step` now returns `done=True` when the cart leaves the $x\\in [-2.4,2.4]$ interval or when the pole swings faster than $4\\pi$ radians per second.\n",
    "- the reward is still +1 for keeping the pole within 12 degrees of the vertical, it is 0 for all other time steps and -10 for swinging too fast or exiting the screen."
   ]
  },
  {
   "cell_type": "code",
   "execution_count": null,
   "metadata": {},
   "outputs": [],
   "source": []
  },
  {
   "cell_type": "code",
   "execution_count": 5,
   "metadata": {},
   "outputs": [],
   "source": [
    "class CartPoleSwingUp(gym.Wrapper):\n",
    "    def __init__(self, env, **kwargs):\n",
    "        super(CartPoleSwingUp, self).__init__(env, **kwargs)\n",
    "        self.theta_dot_threshold = 4*np.pi\n",
    "    def reset(self):\n",
    "        self.state = [0,0,np.pi,0] + super().reset()\n",
    "        #self.state = [0,0,np.pi,0] + self.np_random.uniform(low=-0.05, high=0.05, size=(4,))\n",
    "        self.steps_beyond_done = None\n",
    "        return np.array(self.state)\n",
    "    def step(self, action):\n",
    "\n",
    "        state, reward, done, _ = super().step(action)\n",
    "        self.state = state\n",
    "        x, x_dot, theta, theta_dot = state\n",
    "        \n",
    "        done =  x < -self.x_threshold \\\n",
    "                or x > self.x_threshold \\\n",
    "                or theta_dot < -self.theta_dot_threshold \\\n",
    "                or theta_dot > self.theta_dot_threshold\n",
    "        done = bool(done)\n",
    "        \n",
    "        if done:\n",
    "            # game over\n",
    "            reward = -10.\n",
    "            if self.steps_beyond_done is None:\n",
    "                self.steps_beyond_done = 0\n",
    "            else:\n",
    "                logger.warn(\"You are calling 'step()' even though this environment has already returned done = True. You should always call 'reset()' once you receive 'done = True' -- any further steps are undefined behavior.\")\n",
    "                self.steps_beyond_done += 1\n",
    "        else:\n",
    "            if theta < -self.theta_threshold_radians \\\n",
    "                or theta > self.theta_threshold_radians:\n",
    "                # pole upright\n",
    "                reward = 1.\n",
    "            else:\n",
    "                # pole swinging\n",
    "                reward = 0.\n",
    "\n",
    "        return np.array(self.state), reward, done, {}"
   ]
  },
  {
   "cell_type": "code",
   "execution_count": 6,
   "metadata": {},
   "outputs": [],
   "source": [
    "swingup = CartPoleSwingUp(gym.make('CartPole-v1'))"
   ]
  },
  {
   "cell_type": "code",
   "execution_count": 7,
   "metadata": {
    "scrolled": true
   },
   "outputs": [
    {
     "name": "stdout",
     "output_type": "stream",
     "text": [
      "107\n"
     ]
    }
   ],
   "source": [
    "x = swingup.reset()\n",
    "swingup.render()\n",
    "for i in range(1000):\n",
    "    _,_,d,_ = swingup.step(np.random.randint(2))\n",
    "    swingup.render()\n",
    "    if d:\n",
    "        print(i)\n",
    "        break\n",
    "swingup.close()"
   ]
  },
  {
   "cell_type": "markdown",
   "metadata": {},
   "source": [
    "## <a id=sec1.3></a>Pong\n",
    "\n",
    "Let's build an agent that learns to play Pong, one of the [Atari games](https://github.com/openai/gym/blob/master/gym/envs/atari/atari_env.py) in Gym (originally in the [Arcade Learning Environment](https://github.com/mgbellemare/Arcade-Learning-Environment)). You might want to try different games later on (like the popular Breakout game for instance)."
   ]
  },
  {
   "cell_type": "code",
   "execution_count": 8,
   "metadata": {},
   "outputs": [],
   "source": [
    "pong = gym.make('Pong-v4')"
   ]
  },
  {
   "cell_type": "markdown",
   "metadata": {},
   "source": [
    "Here is the environment's description.\n",
    "> Maximize your score in the Atari 2600 game Pong. In this environment, the observation is an RGB image of the screen, which is an array of shape (210, 160, 3). Each action is repeatedly performed for a duration of k frames, where k is uniformly sampled from $\\{2, 3, 4\\}$."
   ]
  },
  {
   "cell_type": "code",
   "execution_count": 9,
   "metadata": {},
   "outputs": [
    {
     "name": "stdout",
     "output_type": "stream",
     "text": [
      "Box(210, 160, 3)\n",
      "(210, 160, 3)\n",
      "0\n",
      "255\n",
      "Discrete(6)\n"
     ]
    }
   ],
   "source": [
    "print(pong.observation_space)\n",
    "print(pong.observation_space.shape)\n",
    "print(np.min(pong.observation_space.low))\n",
    "print(np.max(pong.observation_space.high))\n",
    "print(pong.action_space)\n",
    "#help(env.observation_space)"
   ]
  },
  {
   "cell_type": "code",
   "execution_count": 10,
   "metadata": {},
   "outputs": [
    {
     "data": {
      "image/png": "[encoded data removed]",
      "text/plain": [
       "<Figure size 432x288 with 1 Axes>"
      ]
     },
     "metadata": {
      "needs_background": "light"
     },
     "output_type": "display_data"
    }
   ],
   "source": [
    "x = pong.reset()\n",
    "plt.imshow(x)\n",
    "plt.show()"
   ]
  },
  {
   "cell_type": "markdown",
   "metadata": {},
   "source": [
    "<div class=\"alert alert-warning\">\n",
    "\n",
    "**Exercice:** What is the number of possible states? Why is this not an MDP? What would one need to turn this back into an MDP?\n",
    "</div>"
   ]
  },
  {
   "cell_type": "markdown",
   "metadata": {},
   "source": [
    "<div class=\"alert alert-danger\">\n",
    "\n",
    "**Solution:**\n",
    "\n",
    "One frame is a $210\\times 160$ RGB image with a 256 color palette, so the set of all possible frames has size $256^{210 \\times 160 \\times 3} \\sim 10^{242579}$. That's a little too many for an efficient enumeration. Of course, most of the possible images will never occur in a Breakout game and the true state space is actually a much smaller subset of the full set of possible images. Nevertheless, unless we provide a large engineering effort in describing the state space with few variables (which would be contradictory of our goal of a \"human-level\" AI) we will need to automatically discover some structure in the state sampled data.\n",
    "\n",
    "This is not an MDP because the transition dynamics do not respect Markov's property. The probability of transitioning from $s_t$ to $s_{t+1}$ is *not* independent of previous states. The problem here is that a single frame of the game does not reflect the velocity of the ball.\n",
    "\n",
    "To recover Markov's property one could simply stack a few frames together in the state space.\n",
    "</div>"
   ]
  },
  {
   "cell_type": "markdown",
   "metadata": {},
   "source": [
    "There are 18 buttons on the Atari controller. However not all games use all buttons. Our interface to Pong specifies 6 possible actions:\n",
    "- 0 NOOP (no operation)\n",
    "- 1 FIRE (press fire button, doesn't do anything in Pong)\n",
    "- 2 RIGHT (actually moves the paddle up in Pong)\n",
    "- 3 LEFT (actually moves the paddle left in Pong)\n",
    "- 4 UP (moves the paddle upwards)\n",
    "- 5 DOWN (moves the paddle downwards)\n",
    "\n",
    "It goes up to the 6th action for naming consistency (UP and DOWN), because the other actions are not really useful.\n",
    "\n",
    "Also, for an unknown reason, the game does not start until the 20th frame (but always starts automatically, pressing FIRE does not change anything).\n",
    "\n",
    "The frame rate is 60Hz.\n",
    "\n",
    "To avoid confusion between the 6 actions allowed by Gym, let's build a wrapper around our environment, with only 2 possible actions (\"0\" for UP and \"1\" for DOWN) and a downscaled observation space. Unless you're curious and want to dig in the code, you can simply run the following cells and just use the resulting environment."
   ]
  },
  {
   "cell_type": "code",
   "execution_count": 10,
   "metadata": {},
   "outputs": [],
   "source": [
    "from gym.wrappers import AtariPreprocessing\n",
    "import cv2\n",
    "\n",
    "class PongWrapper(AtariPreprocessing):\n",
    "    def __init__(self, env, **kwargs):\n",
    "        super(PongWrapper, self).__init__(env, **kwargs)\n",
    "    def step(self,action):\n",
    "        return super(PongWrapper, self).step(4+action)\n",
    "    def _get_obs(self):\n",
    "        if self.frame_skip > 1:  # more efficient in-place pooling\n",
    "            np.maximum(self.obs_buffer[0], self.obs_buffer[1], out=self.obs_buffer[0])\n",
    "        obs = cv2.resize(self.obs_buffer[0], (84, 110), interpolation=cv2.INTER_AREA)[17:101,:]\n",
    "\n",
    "        if self.scale_obs:\n",
    "            obs = np.asarray(obs, dtype=np.float32) / 255.0\n",
    "        else:\n",
    "            obs = np.asarray(obs, dtype=np.uint8)\n",
    "        return obs"
   ]
  },
  {
   "cell_type": "code",
   "execution_count": 11,
   "metadata": {},
   "outputs": [],
   "source": [
    "pong = PongWrapper(gym.make('PongNoFrameskip-v4'),\n",
    "                   noop_max=0,\n",
    "                   frame_skip=4,\n",
    "                   terminal_on_life_loss=True,\n",
    "                   grayscale_obs=True,\n",
    "                   scale_obs=True)"
   ]
  },
  {
   "cell_type": "code",
   "execution_count": 12,
   "metadata": {},
   "outputs": [
    {
     "name": "stdout",
     "output_type": "stream",
     "text": [
      "shape: (84, 84), min = 0.34117648, max = 0.9098039, dtype = float32\n"
     ]
    },
    {
     "data": {
      "image/png": "[encoded data removed]",
      "text/plain": [
       "<Figure size 432x288 with 1 Axes>"
      ]
     },
     "metadata": {
      "needs_background": "light"
     },
     "output_type": "display_data"
    }
   ],
   "source": [
    "# Trying a random agent in Pong\n",
    "import time\n",
    "\n",
    "pong.reset()\n",
    "pong.render()\n",
    "for i in range(60):\n",
    "    a = np.random.randint(2)\n",
    "    x,r,_,_=pong.step(a)\n",
    "    pong.render()\n",
    "    #print('\\r', \"reward\", r, end=\"\")\n",
    "    time.sleep(0.1)\n",
    "    \n",
    "pong.close()\n",
    "print(\"shape: \", x.shape, \", min = \", x.min(), \", max = \", x.max(), \", dtype = \", x.dtype, sep='')\n",
    "plt.imshow(x, cmap='gray');"
   ]
  },
  {
   "cell_type": "markdown",
   "metadata": {},
   "source": [
    "# <a id=sec2></a>Value Iteration as a sequence of Supervized Learning problems\n",
    "\n",
    "<div class=\"alert alert-warning\">\n",
    "\n",
    "**Exercice:** start from the Value Iteration update and write $Q_{n+1}$ as a regression problem with parameters $\\theta_{n+1}$. Specify the loss function minimized for this regression problem.\n",
    "</div>"
   ]
  },
  {
   "cell_type": "markdown",
   "metadata": {},
   "source": [
    "<div class=\"alert alert-danger\">\n",
    "\n",
    "**Solution:**\n",
    "\n",
    "Let's start over from the beginning. We want to find:\n",
    "$$\\pi^*(s) = \\arg\\max_{\\pi} \\mathbb{E}_{\\left(r_t\\right)_{t\\in \\mathbb{N}}} \\left[ \\sum_{t=0}^\\infty \\gamma^t r_t \\ \\Big| \\ s, \\pi \\right], \\ \\forall s\\in S.$$\n",
    "\n",
    "We have seen this was equivalent to finding the optimal value function $Q^*$:\n",
    "$$Q^*(s,a) = \\max_{\\pi} \\mathbb{E}_{\\left(r_t\\right)_{t\\in \\mathbb{N}}} \\left[ \\sum_{t=0}^\\infty \\gamma^t r_t \\ \\Big| \\  s,a, \\pi \\right], \\ \\forall (s,a) \\in S\\times A.$$\n",
    "\n",
    "And we have established that $Q^*$ was the only solution to Bellman's optimality equation:\n",
    "$$Q(s,a) = \\mathbb{E}_{s' \\sim p(\\cdot|s,a)} \\left[r(s,a,s') + \\gamma \\max_{a'} Q(s',a')\\right].$$\n",
    "\n",
    "By writing $T^*$ Bellman's optimality operator, we have, by definition:\n",
    "$$(T^*Q)(s,a) = \\mathbb{E}_{s' \\sim p(\\cdot|s,a)} \\left[r(s,a,s') + \\gamma \\max_{a'} Q(s',a')\\right].$$\n",
    "\n",
    "And thus, $Q^*$ is the only solution to $Q=T^*Q$.\n",
    "\n",
    "It appears $T^*$ is a contraction mapping on the $\\mathcal{F}(S\\times A,\\mathbb{R})$ space. Value Iteration exploits this property to build the sequence $Q_{n+1} = T^*Q_n$ which converges to $Q^*$.\n",
    "\n",
    "Let's now suppose that $Q_n$ is a function approximator, whose parameters are $\\theta_n$. We shall write $Q_n(s,a) = Q(s,a;\\theta_n)$. Then building $\\theta_{n+1}$ knowing $\\theta_n$ is the regression problem that minimizes the loss:\n",
    "\\begin{gather}\n",
    "L_n(\\theta) = \\left\\| y(s,a) - Q(s,a;\\theta) \\right\\|,\\\\\n",
    "\\textrm{with } y(s,a) = \\mathbb{E}_{s' \\sim p(\\cdot|s,a)} \\left[r(s,a,s') + \\gamma \\max_{a'} Q(s',a',\\theta_{n})\\right].\n",
    "\\end{gather}\n",
    "\n",
    "If this loss can be optimized and goes to zero, then we have found the true $Q_{n+1}$. If not, then we have found an approximation of it in the norm used to define $L_n$.\n",
    "\n",
    "</div>"
   ]
  },
  {
   "cell_type": "markdown",
   "metadata": {},
   "source": [
    "<div class=\"alert alert-warning\">\n",
    "\n",
    "**Exercice:** use the L2 norm in the loss of the regression problem above, then write the gradient of the loss with respect to the regressor's parameters. Use this to introduce a stochastic gradient descent method to find $\\theta_{n+1}$.\n",
    "</div>"
   ]
  },
  {
   "cell_type": "markdown",
   "metadata": {},
   "source": [
    "<div class=\"alert alert-danger\">\n",
    "\n",
    "**Solution:**\n",
    "\n",
    "Our loss becomes:\n",
    "\\begin{gather}\n",
    "L_n(\\theta) = \\frac{1}{2} \\mathbb{E}_{(s,a) \\sim \\rho(\\cdot)}\\left[ \\big( y(s,a) - Q(s,a;\\theta) \\big)^2 \\right],\\\\\n",
    "\\textrm{with } y(s,a) = \\mathbb{E}_{s' \\sim p(\\cdot|s,a)} \\left[r(s,a,s') + \\gamma \\max_{a'} Q(s',a',\\theta_{n})\\right].\n",
    "\\end{gather}\n",
    "\n",
    "In the expression above, $\\rho$ is a distribution over the state-action space. Often, it is considered to be the behavior distribution, that is the distribution of samples under the current behavior policy, like $\\epsilon$-greedy. Note that this choice is debatable.\n",
    "\n",
    "So the gradient of this loss is:\n",
    "\\begin{gather}\n",
    "\\nabla_\\theta L_n(\\theta) = \\mathbb{E}_{(s,a) \\sim \\rho(\\cdot)}\\left[ \\big( y(s,a) - Q(s,a;\\theta) \\big) \\nabla_\\theta Q(s,a;\\theta) \\right]\\\\\n",
    "\\textrm{with } y(s,a) = \\mathbb{E}_{s' \\sim p(\\cdot|s,a)} \\left[r(s,a,s') + \\gamma \\max_{a'} Q(s',a',\\theta_{n})\\right].\n",
    "\\end{gather}\n",
    "\n",
    "And when we wrap all this together:\n",
    "$$\\nabla_\\theta L_n(\\theta) = \\mathbb{E}_{(s,a) \\sim \\rho(\\cdot)}\\left[ \\left( \\mathbb{E}_{s' \\sim p(\\cdot|s,a)} \\left[r(s,a,s') + \\gamma \\max_{a'} Q(s',a',\\theta_{n})\\right] - Q(s,a;\\theta) \\right) \\nabla_\\theta Q(s,a;\\theta) \\right]$$\n",
    "\n",
    "$$\\nabla_\\theta L_n(\\theta) = \\mathbb{E}_{\\substack{(s,a) \\sim \\rho(\\cdot)\\\\ s' \\sim p(\\cdot|s,a)}}\\left[ \\left( r(s,a,s') + \\gamma \\max_{a'} Q(s',a',\\theta_{n}) - Q(s,a;\\theta) \\right) \\nabla_\\theta Q(s,a;\\theta) \\right]$$\n",
    "\n",
    "Rather than computing the full expectations in the above gradient, it is often computationally expedient to optimise the loss function by stochastic gradient descent. Then the stochastic estimate of the gradient is given by:\n",
    "$$\\nabla_\\theta L_n(\\theta) \\approx d_n(\\theta) = \\sum_{i=1}^B \\left[ \\left( r_i + \\gamma \\max_{a'} Q(s_i',a',\\theta_{n}) - Q(s_i,a_i;\\theta) \\right) \\nabla_\\theta Q(s_i,a_i;\\theta) \\right],$$\n",
    "where $\\left\\{ \\left(s_i,a_i,r_i,s'_i\\right) \\right\\}_{i\\in {1,B}}$ is a mini-batch of samples drawn independently, with $(s,a) \\sim \\rho(\\cdot)$ and $s' \\sim p(\\cdot | s,a)$.\n",
    "\n",
    "The stochastic gradient descent procedure builds a sequence of parameter values $\\theta_i$ such that:\n",
    "$$\\theta_{i+1} \\leftarrow \\theta_{i} - \\alpha d_n(\\theta_{i})$$\n",
    "\n",
    "By repeating such gradient steps, one progressively minimizes $L_n(\\theta)$ and finds $\\theta_{n+1}$."
   ]
  },
  {
   "cell_type": "markdown",
   "metadata": {},
   "source": [
    "**Important remark:**\n",
    "\n",
    "In the update above, if the mini-batch contains a single element, the 1-sample update is precisely that of Q-learning! Then, in Q-learning, the new loss $L_{n+1}$ is defined and the process is repeated. Consequently, there is a new loss function at each time step.\n",
    "\n",
    "<div class=\"alert alert-warning\">\n",
    "\n",
    "**Exercice:** can you spot the (subtle but essential) difference with Q-learning?\n",
    "</div>"
   ]
  },
  {
   "cell_type": "markdown",
   "metadata": {},
   "source": [
    "<div class=\"alert alert-danger\">\n",
    "\n",
    "**Solution:**\n",
    "\n",
    "Recall Q-learning. The update was indeed the same, except that at any time step the mini-batch's single element was not sampled independently from the previous minibatch! Indeed, $s'$ from the previous time step becomes $s$ for the current time step. So the successive mini-batches' elements are not drawn iid.\n",
    "\n",
    "That's a key difference that questions the foundation of Q-learning in itself.\n",
    "</div>"
   ]
  },
  {
   "cell_type": "markdown",
   "metadata": {},
   "source": [
    "# <a id=sec3></a>Experience Replay\n",
    "\n",
    "To recover the independence assumption between samples, we can introduce the mechanism of *Experience Replay* by storing past samples into a *Replay Memory*. When samples a required for a mini-batch gradient update, the samples are collected uniformly from the replay memory, thus mimicking an (almost) independent draw according to $\\rho(\\cdot)$."
   ]
  },
  {
   "cell_type": "markdown",
   "metadata": {},
   "source": [
    "<div class=\"alert alert-warning\">\n",
    "    \n",
    "**Exercice:** design a class for the replay memory of the cart-pole example(s). Limit the size of this memory (via a FIFO mechanism) to $10^6$ samples (adapt this number to your computer's RAM). Test it by running a random policy for $2\\cdot 10^6$ time steps.\n",
    "</div>"
   ]
  },
  {
   "cell_type": "code",
   "execution_count": 20,
   "metadata": {},
   "outputs": [],
   "source": [
    "# YOUR REPLAY BUFFER CODE\n",
    "class MemoryBuffer:\n",
    "    \"An experience replay buffer using numpy arrays\"\n",
    "    def __init__(self, length, screen_shape, action_shape):\n",
    "        self.length = length\n",
    "        self.screen_shape = screen_shape\n",
    "        self.action_shape = action_shape\n",
    "        shape = (length,) + screen_shape\n",
    "        self.x = np.zeros(shape, dtype=np.float32) # starting states\n",
    "        self.y = np.zeros(shape, dtype=np.float32) # resulting states\n",
    "        shape = (length,) + action_shape\n",
    "        self.actions = np.zeros(shape, dtype=np.uint8) # actions\n",
    "        self.rewards = np.zeros((length,1), dtype=np.uint8) # rewards\n",
    "        self.terminals = np.zeros((length,1), dtype=np.bool) # true if resulting state is terminal\n",
    "        self.terminals[-1] = True\n",
    "        self.index = 0 # points one position past the last inserted element\n",
    "        self.size = 0 # current size of the buffer\n",
    "    \n",
    "    def append(self, x_, a, r, y_, d):\n",
    "        self.x[self.index] = x_\n",
    "        #plt.imshow(screenx)\n",
    "        #plt.show()\n",
    "        #plt.imshow(self.screens_x[self.index])\n",
    "        #plt.show()\n",
    "        self.actions[self.index] = a\n",
    "        self.rewards[self.index] = r\n",
    "        self.y[self.index] = y_\n",
    "        self.terminals[self.index] = d\n",
    "        self.index = (self.index+1) % self.length\n",
    "        self.size = np.min([self.size+1,self.length])\n",
    "    \n",
    "    \n",
    "    def minibatch(self, size):\n",
    "        #return np.random.choice(self.data[:self.size], size=sz, replace=False)\n",
    "        indices = np.random.choice(self.size, size=size, replace=False)\n",
    "        \n",
    "        return self.x[indices], self.actions[indices], self.rewards[indices], self.y[indices], self.terminals[indices]"
   ]
  },
  {
   "cell_type": "code",
   "execution_count": 15,
   "metadata": {},
   "outputs": [
    {
     "name": "stdout",
     "output_type": "stream",
     "text": [
      "[-0.04145174 -0.03868891  0.01544755 -0.01590005] 1 1.0 [-0.04222552  0.15620814  0.01512955 -0.30366934] False\n",
      "[-0.04222552  0.15620814  0.01512955 -0.30366934] 0 1.0 [-0.03910135 -0.03912613  0.00905616 -0.00625356] False\n",
      "[-0.03910135 -0.03912613  0.00905616 -0.00625356] 0 1.0 [-0.03988388 -0.23437678  0.00893109  0.28927288] False\n",
      "[-0.03988388 -0.23437678  0.00893109  0.28927288] 0 1.0 [-0.04457141 -0.42962494  0.01471655  0.58475915] False\n",
      "[-0.04457141 -0.42962494  0.01471655  0.58475915] 0 1.0 [-0.05316391 -0.62494991  0.02641173  0.88204139] False\n",
      "[-0.05316391 -0.62494991  0.02641173  0.88204139] 0 1.0 [-0.06566291 -0.82042045  0.04405256  1.18290908] False\n",
      "[-0.06566291 -0.82042045  0.04405256  1.18290908] 1 1.0 [-0.08207132 -0.62589695  0.06771074  0.90435417] False\n",
      "[-0.08207132 -0.62589695  0.06771074  0.90435417] 1 1.0 [-0.09458926 -0.43175414  0.08579783  0.63369903] False\n",
      "[-0.09458926 -0.43175414  0.08579783  0.63369903] 0 1.0 [-0.10322434 -0.62796153  0.09847181  0.95212116] False\n",
      "[-0.10322434 -0.62796153  0.09847181  0.95212116] 0 1.0 [-0.11578357 -0.82426083  0.11751423  1.2740476 ] False\n",
      "[-0.11578357 -0.82426083  0.11751423  1.2740476 ] 0 1.0 [-0.13226879 -1.02066941  0.14299518  1.6010983 ] False\n",
      "[-0.13226879 -1.02066941  0.14299518  1.6010983 ] 0 1.0 [-0.15268217 -1.21716588  0.17501715  1.93473217] False\n",
      "[-0.15268217 -1.21716588  0.17501715  1.93473217] 1 1.0 [-0.17702549 -1.02429498  0.21371179  1.70103816] True\n",
      "[0.02189485 0.04829172 0.04336755 0.04039587] 0 1.0 [ 0.02286068 -0.14742442  0.04417546  0.34644011] False\n",
      "[ 0.02286068 -0.14742442  0.04417546  0.34644011] 1 1.0 [0.01991219 0.04704223 0.05110426 0.06800807] False\n",
      "[0.01991219 0.04704223 0.05110426 0.06800807] 0 1.0 [ 0.02085304 -0.14877374  0.05246443  0.37636667] False\n",
      "[ 0.02085304 -0.14877374  0.05246443  0.37636667] 0 1.0 [ 0.01787756 -0.34460007  0.05999176  0.68511947] False\n",
      "[ 0.01787756 -0.34460007  0.05999176  0.68511947] 0 1.0 [ 0.01098556 -0.54050135  0.07369415  0.99606975] False\n",
      "[ 0.01098556 -0.54050135  0.07369415  0.99606975] 0 1.0 [ 1.75535035e-04 -7.36527335e-01  9.36155439e-02  1.31095713e+00] False\n",
      "[ 1.75535035e-04 -7.36527335e-01  9.36155439e-02  1.31095713e+00] 0 1.0 [-0.01455501 -0.93270187  0.11983469  1.63141323] False\n",
      "[-0.01455501 -0.93270187  0.11983469  1.63141323] 0 1.0 [-0.03320905 -1.12901032  0.15246295  1.95891127] False\n",
      "[-0.03320905 -1.12901032  0.15246295  1.95891127] 1 1.0 [-0.05578926 -0.93579869  0.19164118  1.71710636] False\n",
      "[-0.05578926 -0.93579869  0.19164118  1.71710636] 1 1.0 [-0.07450523 -0.7433214   0.2259833   1.48967422] True\n",
      "[-0.02199858  0.04465     0.00541929  0.02712546] 1 1.0 [-0.02110558  0.23969381  0.00596179 -0.26384271] False\n",
      "[-0.02110558  0.23969381  0.00596179 -0.26384271] 0 1.0 [-0.01631171  0.04448728  0.00068494  0.03071465] False\n",
      "[-0.01631171  0.04448728  0.00068494  0.03071465] 1 1.0 [-0.01542196  0.2395994   0.00129923 -0.26175209] False\n",
      "[-0.01542196  0.2395994   0.00129923 -0.26175209] 1 1.0 [-0.01062997  0.43470278 -0.00393581 -0.55402494] False\n",
      "[-0.01062997  0.43470278 -0.00393581 -0.55402494] 0 1.0 [-0.00193592  0.23963632 -0.01501631 -0.26258464] False\n",
      "[-0.00193592  0.23963632 -0.01501631 -0.26258464] 1 1.0 [ 0.00285681  0.43496936 -0.020268   -0.55996579] False\n",
      "[ 0.00285681  0.43496936 -0.020268   -0.55996579] 0 1.0 [ 0.0115562   0.24013766 -0.03146732 -0.27373665] False\n",
      "[ 0.0115562   0.24013766 -0.03146732 -0.27373665] 1 1.0 [ 0.01635895  0.43569413 -0.03694205 -0.57617601] False\n",
      "[ 0.01635895  0.43569413 -0.03694205 -0.57617601] 1 1.0 [ 0.02507283  0.63131392 -0.04846557 -0.88026398] False\n",
      "[ 0.02507283  0.63131392 -0.04846557 -0.88026398] 1 1.0 [ 0.03769911  0.82705961 -0.06607085 -1.18778104] False\n",
      "[ 0.03769911  0.82705961 -0.06607085 -1.18778104] 0 1.0 [ 0.0542403   0.63285352 -0.08982647 -0.91651821] False\n",
      "[ 0.0542403   0.63285352 -0.08982647 -0.91651821] 0 1.0 [ 0.06689737  0.43905349 -0.10815683 -0.65336366] False\n",
      "[ 0.06689737  0.43905349 -0.10815683 -0.65336366] 0 1.0 [ 0.07567844  0.24559059 -0.12122411 -0.39660114] False\n",
      "[ 0.07567844  0.24559059 -0.12122411 -0.39660114] 0 1.0 [ 0.08059026  0.05237837 -0.12915613 -0.14446234] False\n",
      "[ 0.08059026  0.05237837 -0.12915613 -0.14446234] 0 1.0 [ 0.08163782 -0.14068011 -0.13204538  0.10484696] False\n",
      "[ 0.08163782 -0.14068011 -0.13204538  0.10484696] 0 1.0 [ 0.07882422 -0.33368687 -0.12994844  0.3531282 ] False\n",
      "[ 0.07882422 -0.33368687 -0.12994844  0.3531282 ] 1 1.0 [ 0.07215048 -0.13697963 -0.12288587  0.02245772] False\n",
      "[ 0.07215048 -0.13697963 -0.12288587  0.02245772] 1 1.0 [ 0.06941089  0.05967074 -0.12243672 -0.30633102] False\n",
      "[ 0.06941089  0.05967074 -0.12243672 -0.30633102] 0 1.0 [ 0.0706043  -0.13351313 -0.12856334 -0.05463102] False\n",
      "[ 0.0706043  -0.13351313 -0.12856334 -0.05463102] 0 1.0 [ 0.06793404 -0.3265797  -0.12965596  0.19488522] False\n",
      "[ 0.06793404 -0.3265797  -0.12965596  0.19488522] 0 1.0 [ 0.06140245 -0.51963162 -0.12575826  0.44402037] False\n",
      "[ 0.06140245 -0.51963162 -0.12575826  0.44402037] 1 1.0 [ 0.05100982 -0.32297557 -0.11687785  0.11449028] False\n",
      "[ 0.05100982 -0.32297557 -0.11687785  0.11449028] 1 1.0 [ 0.0445503  -0.12638974 -0.11458804 -0.21266059] False\n",
      "[ 0.0445503  -0.12638974 -0.11458804 -0.21266059] 1 1.0 [ 0.04202251  0.07016816 -0.11884125 -0.53917909] False\n",
      "[ 0.04202251  0.07016816 -0.11884125 -0.53917909] 1 1.0 [ 0.04342587  0.26674266 -0.12962484 -0.86681822] False\n",
      "[ 0.04342587  0.26674266 -0.12962484 -0.86681822] 0 1.0 [ 0.04876073  0.07360034 -0.1469612  -0.61753838] False\n",
      "[ 0.04876073  0.07360034 -0.1469612  -0.61753838] 1 1.0 [ 0.05023273  0.2704364  -0.15931197 -0.95266105] False\n",
      "[ 0.05023273  0.2704364  -0.15931197 -0.95266105] 0 1.0 [ 0.05564146  0.07777506 -0.17836519 -0.7139685 ] False\n",
      "[ 0.05564146  0.07777506 -0.17836519 -0.7139685 ] 0 1.0 [ 0.05719696 -0.11448818 -0.19264456 -0.48231076] False\n",
      "[ 0.05719696 -0.11448818 -0.19264456 -0.48231076] 0 1.0 [ 0.0549072  -0.30644378 -0.20229077 -0.25599155] False\n",
      "[ 0.0549072  -0.30644378 -0.20229077 -0.25599155] 0 1.0 [ 0.04877832 -0.49818959 -0.20741061 -0.0333064 ] False\n",
      "[ 0.04877832 -0.49818959 -0.20741061 -0.0333064 ] 0 1.0 [ 0.03881453 -0.68982714 -0.20807673  0.18744655] False\n",
      "[ 0.03881453 -0.68982714 -0.20807673  0.18744655] 1 1.0 [ 0.02501799 -0.49242992 -0.2043278  -0.16299658] False\n",
      "[ 0.02501799 -0.49242992 -0.2043278  -0.16299658] 0 1.0 [ 0.01516939 -0.68413014 -0.20758773  0.05891676] False\n",
      "[ 0.01516939 -0.68413014 -0.20758773  0.05891676] 1 1.0 [ 0.00148679 -0.4867301  -0.2064094  -0.2914197 ] False\n",
      "[ 0.00148679 -0.4867301  -0.2064094  -0.2914197 ] 1 1.0 [-0.00824781 -0.2893549  -0.21223779 -0.64145238] True\n",
      "[ 0.04746953  0.02230168 -0.02980052 -0.00329946] 1 1.0 [ 0.04791556  0.21783806 -0.02986651 -0.30523385] False\n",
      "[ 0.04791556  0.21783806 -0.02986651 -0.30523385] 0 1.0 [ 0.05227232  0.02315417 -0.03597119 -0.0221177 ] False\n",
      "[ 0.05227232  0.02315417 -0.03597119 -0.0221177 ] 0 1.0 [ 0.05273541 -0.17143395 -0.03641354  0.25900241] False\n",
      "[ 0.05273541 -0.17143395 -0.03641354  0.25900241] 1 1.0 [ 0.04930673  0.02418841 -0.03123349 -0.04493983] False\n",
      "[ 0.04930673  0.02418841 -0.03123349 -0.04493983] 0 1.0 [ 0.0497905  -0.17047207 -0.03213229  0.23772733] False\n",
      "[ 0.0497905  -0.17047207 -0.03213229  0.23772733] 1 1.0 [ 0.04638106  0.02509385 -0.02737774 -0.06491539] False\n",
      "[ 0.04638106  0.02509385 -0.02737774 -0.06491539] 1 1.0 [ 0.04688293  0.22059741 -0.02867605 -0.36610888] False\n",
      "[ 0.04688293  0.22059741 -0.02867605 -0.36610888] 0 1.0 [ 0.05129488  0.02589445 -0.03599823 -0.08260412] False\n",
      "[ 0.05129488  0.02589445 -0.03599823 -0.08260412] 0 1.0 [ 0.05181277 -0.16869347 -0.03765031  0.19850747] False\n",
      "[ 0.05181277 -0.16869347 -0.03765031  0.19850747] 0 1.0 [ 0.0484389  -0.36325725 -0.03368016  0.47907974] False\n",
      "[ 0.0484389  -0.36325725 -0.03368016  0.47907974] 1 1.0 [ 0.04117376 -0.16767641 -0.02409857  0.17597476] False\n",
      "[ 0.04117376 -0.16767641 -0.02409857  0.17597476] 1 1.0 [ 0.03782023  0.02778199 -0.02057907 -0.124212  ] False\n",
      "[ 0.03782023  0.02778199 -0.02057907 -0.124212  ] 0 1.0 [ 0.03837587 -0.16703919 -0.02306331  0.16190807] False\n",
      "[ 0.03837587 -0.16703919 -0.02306331  0.16190807] 1 1.0 [ 0.03503508  0.02840521 -0.01982515 -0.13796058] False\n",
      "[ 0.03503508  0.02840521 -0.01982515 -0.13796058] 1 1.0 [ 0.03560319  0.22380542 -0.02258436 -0.43683151] False\n",
      "[ 0.03560319  0.22380542 -0.02258436 -0.43683151] 0 1.0 [ 0.0400793   0.02901032 -0.03132099 -0.15135261] False\n",
      "[ 0.0400793   0.02901032 -0.03132099 -0.15135261] 1 1.0 [ 0.0406595   0.22456643 -0.03434804 -0.45374977] False\n",
      "[ 0.0406595   0.22456643 -0.03434804 -0.45374977] 0 1.0 [ 0.04515083  0.02994659 -0.04342304 -0.17208854] False\n",
      "[ 0.04515083  0.02994659 -0.04342304 -0.17208854] 1 1.0 [ 0.04574976  0.22566227 -0.04686481 -0.47814769] False\n",
      "[ 0.04574976  0.22566227 -0.04686481 -0.47814769] 1 1.0 [ 0.05026301  0.42141346 -0.05642776 -0.7852253 ] False\n",
      "[ 0.05026301  0.42141346 -0.05642776 -0.7852253 ] 1 1.0 [ 0.05869128  0.61726345 -0.07213227 -1.09511366] False\n",
      "[ 0.05869128  0.61726345 -0.07213227 -1.09511366] 0 1.0 [ 0.07103655  0.42316184 -0.09403454 -0.82590686] False\n",
      "[ 0.07103655  0.42316184 -0.09403454 -0.82590686] 1 1.0 [ 0.07949978  0.61943534 -0.11055268 -1.14662185] False\n",
      "[ 0.07949978  0.61943534 -0.11055268 -1.14662185] 0 1.0 [ 0.09188849  0.42591684 -0.13348512 -0.89055247] False\n",
      "[ 0.09188849  0.42591684 -0.13348512 -0.89055247] 1 1.0 [ 0.10040683  0.62257265 -0.15129617 -1.22204022] False\n"
     ]
    },
    {
     "name": "stdout",
     "output_type": "stream",
     "text": [
      "[ 0.10040683  0.62257265 -0.15129617 -1.22204022] 1 1.0 [ 0.11285828  0.81928488 -0.17573697 -1.55804945] False\n",
      "[ 0.11285828  0.81928488 -0.17573697 -1.55804945] 0 1.0 [ 0.12924398  0.62664848 -0.20689796 -1.32494646] False\n",
      "[ 0.12924398  0.62664848 -0.20689796 -1.32494646] 0 1.0 [ 0.14177695  0.43465081 -0.23339689 -1.10348705] True\n",
      "[ 0.02564486 -0.01667854 -0.02669233  0.01781547] 1 1.0 [ 0.02531129  0.17881584 -0.02633602 -0.28316825] False\n",
      "[ 0.02531129  0.17881584 -0.02633602 -0.28316825] 0 1.0 [ 0.0288876  -0.01592076 -0.03199939  0.00109347] False\n",
      "[ 0.0288876  -0.01592076 -0.03199939  0.00109347] 0 1.0 [ 0.02856919 -0.21056953 -0.03197752  0.28351094] False\n",
      "[ 0.02856919 -0.21056953 -0.03197752  0.28351094] 1 1.0 [ 0.0243578  -0.01500642 -0.0263073  -0.01908354] False\n",
      "[ 0.0243578  -0.01500642 -0.0263073  -0.01908354] 1 1.0 [ 0.02405767  0.18048273 -0.02668897 -0.31994927] False\n",
      "[ 0.02405767  0.18048273 -0.02668897 -0.31994927] 1 1.0 [ 0.02766732  0.37597441 -0.03308795 -0.62092798] False\n",
      "[ 0.02766732  0.37597441 -0.03308795 -0.62092798] 0 1.0 [ 0.03518681  0.18132978 -0.04550651 -0.33884693] False\n",
      "[ 0.03518681  0.18132978 -0.04550651 -0.33884693] 1 1.0 [ 0.03881341  0.37706873 -0.05228345 -0.64552569] False\n",
      "[ 0.03881341  0.37706873 -0.05228345 -0.64552569] 1 1.0 [ 0.04635478  0.57287876 -0.06519397 -0.95420372] False\n",
      "[ 0.04635478  0.57287876 -0.06519397 -0.95420372] 0 1.0 [ 0.05781236  0.37869157 -0.08427804 -0.68269518] False\n",
      "[ 0.05781236  0.37869157 -0.08427804 -0.68269518] 0 1.0 [ 0.06538619  0.18483481 -0.09793194 -0.41769054] False\n",
      "[ 0.06538619  0.18483481 -0.09793194 -0.41769054] 0 1.0 [ 0.06908288 -0.00877282 -0.10628575 -0.15741659] False\n",
      "[ 0.06908288 -0.00877282 -0.10628575 -0.15741659] 1 1.0 [ 0.06890743  0.18769761 -0.10943409 -0.48164842] False\n",
      "[ 0.06890743  0.18769761 -0.10943409 -0.48164842] 0 1.0 [ 0.07266138 -0.0057233  -0.11906705 -0.22536205] False\n",
      "[ 0.07266138 -0.0057233  -0.11906705 -0.22536205] 1 1.0 [ 0.07254691  0.19088129 -0.1235743  -0.55310401] False\n",
      "[ 0.07254691  0.19088129 -0.1235743  -0.55310401] 0 1.0 [ 0.07636454 -0.00230844 -0.13463638 -0.30176765] False\n",
      "[ 0.07636454 -0.00230844 -0.13463638 -0.30176765] 1 1.0 [ 0.07631837  0.19444982 -0.14067173 -0.63369773] False\n",
      "[ 0.07631837  0.19444982 -0.14067173 -0.63369773] 1 1.0 [ 0.08020737  0.39122473 -0.15334568 -0.9671657 ] False\n",
      "[ 0.08020737  0.39122473 -0.15334568 -0.9671657 ] 0 1.0 [ 0.08803186  0.19845736 -0.172689   -0.72631481] False\n",
      "[ 0.08803186  0.19845736 -0.172689   -0.72631481] 0 1.0 [ 0.09200101  0.00609024 -0.18721529 -0.49257456] False\n",
      "[ 0.09200101  0.00609024 -0.18721529 -0.49257456] 0 1.0 [ 0.09212281 -0.18596631 -0.19706678 -0.26424396] False\n",
      "[ 0.09212281 -0.18596631 -0.19706678 -0.26424396] 0 1.0 [ 0.08840349 -0.37780985 -0.20235166 -0.03961167] False\n",
      "[ 0.08840349 -0.37780985 -0.20235166 -0.03961167] 0 1.0 [ 0.08084729 -0.56954202 -0.2031439   0.18303239] False\n",
      "[ 0.08084729 -0.56954202 -0.2031439   0.18303239] 1 1.0 [ 0.06945645 -0.37218057 -0.19948325 -0.16623669] False\n",
      "[ 0.06945645 -0.37218057 -0.19948325 -0.16623669] 1 1.0 [ 0.06201284 -0.17484538 -0.20280798 -0.51462936] False\n",
      "[ 0.06201284 -0.17484538 -0.20280798 -0.51462936] 0 1.0 [ 0.05851593 -0.36662062 -0.21310057 -0.29207984] True\n",
      "[ 0.03538894 -0.01332748  0.02818046  0.01504214] 1 1.0 [ 0.03512239  0.18137923  0.0284813  -0.26861801] False\n",
      "[ 0.03512239  0.18137923  0.0284813  -0.26861801] 1 1.0 [ 0.03874998  0.37608339  0.02310894 -0.55218343] False\n",
      "[ 0.03874998  0.37608339  0.02310894 -0.55218343] 1 1.0 [ 0.04627165  0.5708733   0.01206527 -0.83749687] False\n",
      "[ 0.04627165  0.5708733   0.01206527 -0.83749687] 0 1.0 [ 0.05768911  0.37558867 -0.00468467 -0.54104414] False\n",
      "[ 0.05768911  0.37558867 -0.00468467 -0.54104414] 0 1.0 [ 0.06520088  0.18053288 -0.01550555 -0.24984095] False\n",
      "[ 0.06520088  0.18053288 -0.01550555 -0.24984095] 0 1.0 [ 0.06881154 -0.01436425 -0.02050237  0.03791116] False\n",
      "[ 0.06881154 -0.01436425 -0.02050237  0.03791116] 1 1.0 [ 0.06852426  0.18104561 -0.01974415 -0.26116931] False\n",
      "[ 0.06852426  0.18104561 -0.01974415 -0.26116931] 1 1.0 [ 0.07214517  0.37644377 -0.02496753 -0.56001381] False\n",
      "[ 0.07214517  0.37644377 -0.02496753 -0.56001381] 1 1.0 [ 0.07967405  0.57190709 -0.03616781 -0.86045711] False\n",
      "[ 0.07967405  0.57190709 -0.03616781 -0.86045711] 1 1.0 [ 0.09111219  0.76750245 -0.05337695 -1.1642893 ] False\n",
      "[ 0.09111219  0.76750245 -0.05337695 -1.1642893 ] 1 1.0 [ 0.10646224  0.96327712 -0.07666274 -1.47321844] False\n",
      "[ 0.10646224  0.96327712 -0.07666274 -1.47321844] 1 1.0 [ 0.12572778  1.15924795 -0.10612711 -1.78882806] False\n",
      "[ 0.12572778  1.15924795 -0.10612711 -1.78882806] 0 1.0 [ 0.14891274  0.96546502 -0.14190367 -1.53093189] False\n",
      "[ 0.14891274  0.96546502 -0.14190367 -1.53093189] 0 1.0 [ 0.16822204  0.77231027 -0.1725223  -1.28569179] False\n",
      "[ 0.16822204  0.77231027 -0.1725223  -1.28569179] 0 1.0 [ 0.18366824  0.57975211 -0.19823614 -1.05161269] False\n",
      "[ 0.18366824  0.57975211 -0.19823614 -1.05161269] 1 1.0 [ 0.19526329  0.77687126 -0.21926839 -1.39940114] True\n",
      "[-0.00329218 -0.04134688 -0.02579999 -0.04886581] 0 1.0 [-0.00411912 -0.23608957 -0.02677731  0.23556665] False\n",
      "[-0.00411912 -0.23608957 -0.02677731  0.23556665] 0 1.0 [-0.00884091 -0.43081891 -0.02206597  0.51968436] False\n",
      "[-0.00884091 -0.43081891 -0.02206597  0.51968436] 1 1.0 [-0.01745729 -0.23539338 -0.01167229  0.22013056] False\n",
      "[-0.01745729 -0.23539338 -0.01167229  0.22013056] 0 1.0 [-0.02216516 -0.43034656 -0.00726968  0.50910883] False\n",
      "[-0.02216516 -0.43034656 -0.00726968  0.50910883] 0 1.0 [-0.03077209 -0.62536534  0.0029125   0.799492  ] False\n",
      "[-0.03077209 -0.62536534  0.0029125   0.799492  ] 1 1.0 [-0.04327939 -0.43028346  0.01890234  0.5077267 ] False\n",
      "[-0.04327939 -0.43028346  0.01890234  0.5077267 ] 1 1.0 [-0.05188506 -0.23543287  0.02905687  0.22105999] False\n",
      "[-0.05188506 -0.23543287  0.02905687  0.22105999] 1 1.0 [-0.05659372 -0.04073804  0.03347807 -0.06231746] False\n",
      "[-0.05659372 -0.04073804  0.03347807 -0.06231746] 1 1.0 [-0.05740848  0.15388831  0.03223172 -0.34425269] False\n",
      "[-0.05740848  0.15388831  0.03223172 -0.34425269] 0 1.0 [-0.05433072 -0.04167698  0.02534667 -0.04158263] False\n",
      "[-0.05433072 -0.04167698  0.02534667 -0.04158263] 0 1.0 [-0.05516426 -0.23715306  0.02451502  0.25898842] False\n",
      "[-0.05516426 -0.23715306  0.02451502  0.25898842] 1 1.0 [-0.05990732 -0.0423895   0.02969479 -0.02586243] False\n",
      "[-0.05990732 -0.0423895   0.02969479 -0.02586243] 1 1.0 [-0.06075511  0.15229429  0.02917754 -0.3090304 ] False\n",
      "[-0.06075511  0.15229429  0.02917754 -0.3090304 ] 1 1.0 [-0.05770922  0.34698863  0.02299693 -0.59237061] False\n",
      "[-0.05770922  0.34698863  0.02299693 -0.59237061] 1 1.0 [-0.05076945  0.54178122  0.01114952 -0.87772174] False\n",
      "[-0.05076945  0.54178122  0.01114952 -0.87772174] 0 1.0 [-0.03993382  0.34650954 -0.00640492 -0.58155453] False\n",
      "[-0.03993382  0.34650954 -0.00640492 -0.58155453] 0 1.0 [-0.03300363  0.15147791 -0.01803601 -0.29089613] False\n",
      "[-0.03300363  0.15147791 -0.01803601 -0.29089613] 0 1.0 [-0.02997407 -0.04338228 -0.02385393 -0.00395567] False\n",
      "[-0.02997407 -0.04338228 -0.02385393 -0.00395567] 0 1.0 [-0.03084172 -0.23815416 -0.02393304  0.28110663] False\n",
      "[-0.03084172 -0.23815416 -0.02393304  0.28110663] 0 1.0 [-0.0356048  -0.43292669 -0.01831091  0.56614611] False\n",
      "[-0.0356048  -0.43292669 -0.01831091  0.56614611] 0 1.0 [-0.04426334 -0.62778704 -0.00698799  0.85300453] False\n",
      "[-0.04426334 -0.62778704 -0.00698799  0.85300453] 0 1.0 [-0.05681908 -0.82281304  0.0100721   1.14348194] False\n",
      "[-0.05681908 -0.82281304  0.0100721   1.14348194] 1 1.0 [-0.07327534 -0.62782413  0.03294174  0.85397455] False\n",
      "[-0.07327534 -0.62782413  0.03294174  0.85397455] 0 1.0 [-0.08583182 -0.82337921  0.05002123  1.15683116] False\n",
      "[-0.08583182 -0.82337921  0.05002123  1.15683116] 1 1.0 [-0.10229941 -0.62894373  0.07315786  0.88024285] False\n",
      "[-0.10229941 -0.62894373  0.07315786  0.88024285] 1 1.0 [-0.11487828 -0.43488784  0.09076271  0.61142684] False\n",
      "[-0.11487828 -0.43488784  0.09076271  0.61142684] 0 1.0 [-0.12357604 -0.63115328  0.10299125  0.93126085] False\n",
      "[-0.12357604 -0.63115328  0.10299125  0.93126085] 0 1.0 [-0.1361991  -0.82750302  0.12161647  1.25445071] False\n",
      "[-0.1361991  -0.82750302  0.12161647  1.25445071] 0 1.0 [-0.15274916 -1.02395416  0.14670548  1.58261807] False\n",
      "[-0.15274916 -1.02395416  0.14670548  1.58261807] 1 1.0 [-0.17322825 -0.83085085  0.17835784  1.33905142] False\n",
      "[-0.17322825 -0.83085085  0.17835784  1.33905142] 0 1.0 [-0.18984526 -1.02771306  0.20513887  1.68181994] False\n",
      "[-0.18984526 -1.02771306  0.20513887  1.68181994] 1 1.0 [-0.21039952 -0.83547282  0.23877527  1.45939443] True\n",
      "[ 0.00493151 -0.03788299  0.01407177  0.01015033] 0 1.0 [ 0.00417385 -0.23320389  0.01427477  0.30723964] False\n"
     ]
    },
    {
     "name": "stdout",
     "output_type": "stream",
     "text": [
      "[ 0.00417385 -0.23320389  0.01427477  0.30723964] 1 1.0 [-0.00049023 -0.03828822  0.02041957  0.01909257] False\n",
      "[-0.00049023 -0.03828822  0.02041957  0.01909257] 1 1.0 [-0.00125599  0.15653503  0.02080142 -0.26707845] False\n",
      "[-0.00125599  0.15653503  0.02080142 -0.26707845] 0 1.0 [ 0.00187471 -0.03887753  0.01545985  0.03209215] False\n",
      "[ 0.00187471 -0.03887753  0.01545985  0.03209215] 0 1.0 [ 0.00109716 -0.23421773  0.01610169  0.32961245] False\n",
      "[ 0.00109716 -0.23421773  0.01610169  0.32961245] 0 1.0 [-0.0035872  -0.42956515  0.02269394  0.62732929] False\n",
      "[-0.0035872  -0.42956515  0.02269394  0.62732929] 0 1.0 [-0.0121785  -0.62499638  0.03524053  0.92707209] False\n",
      "[-0.0121785  -0.62499638  0.03524053  0.92707209] 0 1.0 [-0.02467843 -0.820576    0.05378197  1.23061795] False\n",
      "[-0.02467843 -0.820576    0.05378197  1.23061795] 1 1.0 [-0.04108995 -0.62618555  0.07839433  0.95525816] False\n",
      "[-0.04108995 -0.62618555  0.07839433  0.95525816] 0 1.0 [-0.05361366 -0.82226948  0.09749949  1.27150504] False\n",
      "[-0.05361366 -0.82226948  0.09749949  1.27150504] 1 1.0 [-0.07005905 -0.62851777  0.12292959  1.01087721] False\n",
      "[-0.07005905 -0.62851777  0.12292959  1.01087721] 1 1.0 [-0.0826294  -0.4352315   0.14314713  0.75918606] False\n",
      "[-0.0826294  -0.4352315   0.14314713  0.75918606] 1 1.0 [-0.09133403 -0.24234158  0.15833086  0.51475219] False\n",
      "[-0.09133403 -0.24234158  0.15833086  0.51475219] 1 1.0 [-0.09618086 -0.04976211  0.1686259   0.27585124] False\n",
      "[-0.09618086 -0.04976211  0.1686259   0.27585124] 1 1.0 [-0.09717611  0.14260308  0.17414292  0.04073752] False\n",
      "[-0.09717611  0.14260308  0.17414292  0.04073752] 1 1.0 [-0.09432404  0.33485573  0.17495767 -0.1923402 ] False\n",
      "[-0.09432404  0.33485573  0.17495767 -0.1923402 ] 0 1.0 [-0.08762693  0.13771886  0.17111087  0.15002639] False\n",
      "[-0.08762693  0.13771886  0.17111087  0.15002639] 1 1.0 [-0.08487255  0.33003019  0.1741114  -0.08416644] False\n",
      "[-0.08487255  0.33003019  0.1741114  -0.08416644] 0 1.0 [-0.07827195  0.13289546  0.17242807  0.25799541] False\n",
      "[-0.07827195  0.13289546  0.17242807  0.25799541] 1 1.0 [-0.07561404  0.32519021  0.17758798  0.02427361] False\n",
      "[-0.07561404  0.32519021  0.17758798  0.02427361] 0 1.0 [-0.06911024  0.12802492  0.17807345  0.36730708] False\n",
      "[-0.06911024  0.12802492  0.17807345  0.36730708] 0 1.0 [-0.06654974 -0.06912129  0.18541959  0.71042746] False\n",
      "[-0.06654974 -0.06912129  0.18541959  0.71042746] 0 1.0 [-0.06793216 -0.26626085  0.19962814  1.05526956] False\n",
      "[-0.06793216 -0.26626085  0.19962814  1.05526956] 1 1.0 [-0.07325738 -0.07426341  0.22073353  0.83129453] True\n",
      "[-0.04459637  0.02067667  0.02203263 -0.04562134] 0 1.0 [-0.04418284 -0.17475417  0.0211202   0.25393085] False\n",
      "[-0.04418284 -0.17475417  0.0211202   0.25393085] 1 1.0 [-0.04767792  0.02005994  0.02619882 -0.03201628] False\n",
      "[-0.04767792  0.02005994  0.02619882 -0.03201628] 0 1.0 [-0.04727672 -0.17542772  0.02555849  0.26881616] False\n",
      "[-0.04727672 -0.17542772  0.02555849  0.26881616] 1 1.0 [-0.05078528  0.01932034  0.03093481 -0.01569714] False\n",
      "[-0.05078528  0.01932034  0.03093481 -0.01569714] 0 1.0 [-0.05039887 -0.17623129  0.03062087  0.28658334] False\n",
      "[-0.05039887 -0.17623129  0.03062087  0.28658334] 1 1.0 [-0.0539235   0.01844089  0.03635254  0.00371308] False\n",
      "[-0.0539235   0.01844089  0.03635254  0.00371308] 0 1.0 [-0.05355468 -0.17718304  0.0364268   0.30764041] False\n",
      "[-0.05355468 -0.17718304  0.0364268   0.30764041] 0 1.0 [-0.05709834 -0.3728046   0.04257961  0.61158519] False\n",
      "[-0.05709834 -0.3728046   0.04257961  0.61158519] 1 1.0 [-0.06455443 -0.17830281  0.05481131  0.33261158] False\n",
      "[-0.06455443 -0.17830281  0.05481131  0.33261158] 1 1.0 [-0.06812049  0.01599788  0.06146354  0.05770469] False\n",
      "[-0.06812049  0.01599788  0.06146354  0.05770469] 1 1.0 [-0.06780053  0.21018716  0.06261764 -0.2149703 ] False\n",
      "[-0.06780053  0.21018716  0.06261764 -0.2149703 ] 0 1.0 [-0.06359679  0.01422849  0.05831823  0.09678918] False\n",
      "[-0.06359679  0.01422849  0.05831823  0.09678918] 0 1.0 [-0.06331222 -0.1816787   0.06025401  0.40728625] False\n",
      "[-0.06331222 -0.1816787   0.06025401  0.40728625] 0 1.0 [-0.06694579 -0.37760096  0.06839974  0.71834029] False\n",
      "[-0.06694579 -0.37760096  0.06839974  0.71834029] 1 1.0 [-0.07449781 -0.18348885  0.08276655  0.44794682] False\n"
     ]
    }
   ],
   "source": [
    "size_memory = 10**2\n",
    "replay_memory = MemoryBuffer(size_memory,(4,),(1,))\n",
    "\n",
    "x = cartpole.reset()\n",
    "cartpole.render()\n",
    "for i in range(2 * 10**2):\n",
    "    a = np.random.randint(2)\n",
    "    y,r,d,_ = cartpole.step(a)\n",
    "    replay_memory.append(x,a,r,y,d)\n",
    "    print (x,a,r,y,d)\n",
    "    cartpole.render()    \n",
    "    \n",
    "    x=y\n",
    "    if d:\n",
    "        x = cartpole.reset()\n",
    "        \n",
    "cartpole.close()"
   ]
  },
  {
   "cell_type": "markdown",
   "metadata": {},
   "source": [
    "# <a id=sec4></a>A deep Q-network\n",
    "\n",
    "The term Deep Q-Network was coined by the (now historical) paper **[Playing Atari with Deep Reinforcement Learning](https://arxiv.org/abs/1312.5602)** by Mnih et al. (2013) that put forward the main ideas we develop here. All those were later popularized by DeepMind's paper in Nature **[Human-level control through deep reinforcement learning](https://deepmind.com/research/publications/human-level-control-through-deep-reinforcement-learning)** by Mnih et al. (2015).\n",
    "\n",
    "Let's design a (deep) neural network that will serve as a function approximator for $Q(s,a;\\theta)$. \n",
    "\n",
    "<img src=\"images/dqlas.png\" height=\"15%\" width=\"15%\"></img>\n",
    "\n",
    "Note that since we're going to have to compute $\\max_a Q(s,a)$ it is preferable to avoid running as many passes through the network as there are actions. Therefore, instead of the network structure above, we will prefer to use the one below.\n",
    "\n",
    "<img src=\"images/dqls.png\" height=\"30%\" width=\"30%\"></img>\n",
    "\n",
    "<div class=\"alert alert-warning\">\n",
    "    \n",
    "**Exercice:** declare a neural network for our Q function. For the CartPole task, you can use a simple network with 2 hidden layers and 16 neurons on each layer. For the SwingUp task, go up to 50 neurons per layer. For Pong... well wait a minute, we'll get to it later.\n",
    "</div>"
   ]
  },
  {
   "cell_type": "code",
   "execution_count": 13,
   "metadata": {},
   "outputs": [],
   "source": [
    "import torch\n",
    "import torch.nn as nn\n",
    "\n",
    "device = torch.device(\"cuda\" if torch.cuda.is_available() else \"cpu\")\n",
    "\n",
    "state_dim = cartpole.observation_space.shape[0]\n",
    "n_action = cartpole.action_space.n \n",
    "nb_neurons=24\n",
    "\n",
    "DQN = torch.nn.Sequential(nn.Linear(state_dim, nb_neurons),\n",
    "                          nn.ReLU(),\n",
    "                          nn.Linear(nb_neurons, nb_neurons),\n",
    "                          nn.ReLU(), \n",
    "                          nn.Linear(nb_neurons, n_action)).to(device)"
   ]
  },
  {
   "cell_type": "code",
   "execution_count": null,
   "metadata": {},
   "outputs": [],
   "source": []
  },
  {
   "cell_type": "markdown",
   "metadata": {},
   "source": [
    "We're almost there. Now you can implement the algorithm that:\n",
    "- takes $\\epsilon$-greedy actions with respect to $Q$\n",
    "- stores samples in the replay buffer\n",
    "- at each interaction step with the environment, draws a mini-batch, computes the target values for each $(s,a)$ and takes a gradient step.\n",
    "- repeats\n",
    "\n",
    "You can take inspiration from the algorithm on page 5 of [Playing Atari with Deep Reinforcement Learning](https://arxiv.org/abs/1312.5602).\n",
    "\n",
    "A common optimizer (instead of plain SGD) is RMSprop. But don't run this code just yet!"
   ]
  },
  {
   "cell_type": "code",
   "execution_count": 14,
   "metadata": {},
   "outputs": [],
   "source": [
    "def epsilon_greedy(dqq, x, epsilon,env):\n",
    "    a = np.argmax(dqq(torch.from_numpy(x).float()).detach().numpy())\n",
    "    if(np.random.rand()<=epsilon): # random action\n",
    "        aa = np.random.randint(env.action_space.n)\n",
    "        while aa==a:\n",
    "            aa = np.random.randint(env.action_space.n)\n",
    "        \n",
    "        a=aa\n",
    "    return a"
   ]
  },
  {
   "cell_type": "code",
   "execution_count": 15,
   "metadata": {},
   "outputs": [],
   "source": [
    "from tqdm import tqdm"
   ]
  },
  {
   "cell_type": "markdown",
   "metadata": {},
   "source": [
    "# <a id=sec5></a>Making DQN more efficient\n",
    "\n",
    "\n",
    "## <a id=sec5.1></a>Target network\n",
    "It appears the code above will (probably) slowly converge to $Q^*$ but this convergence might be unstable and noisy. This can be greatly improved by taking several gradient steps on a given loss function $L_n$ instead of changing the loss function at each time step.\n",
    "\n",
    "In practice, this is achieved by the introduction of a *target network* whose parameters are noted $\\theta^-$. This idea was introduced in the [Human-level control through deep reinforcement learning](https://deepmind.com/research/publications/human-level-control-through-deep-reinforcement-learning) paper. At any time step, the loss becomes:\n",
    "$$L(\\theta) = \\mathbb{E}_{s,a,r,s'} \\left[ \\left( r + \\gamma \\max_{a'} Q(s',a',\\theta^-) - Q(s,a;\\theta) \\right) ^2 \\right],$$\n",
    "and the target network parameters $\\theta^-$ are only updated with the Q-network parameters $\\theta_n$ every $C$ steps and are held fixed between individual updates.\n",
    "\n",
    "This process of accumulating several gradient steps into $\\theta_n$ before updating $\\theta^-$ draws our algorithm closer to a Value Iteration scheme (or a Fitted Q-Iteration scheme for that matter).\n",
    "\n",
    "Note that more recent approaches smooth out this accumulation process by defining soft updates of the form:\n",
    "$$\\theta^- \\leftarrow \\beta \\theta^- + (1-\\beta) \\theta_n.$$\n",
    "\n",
    "## <a id=sec5.2></a>Error clipping\n",
    "\n",
    "Another common pratice to stabilize learning is to clip the value of $r + \\gamma \\max_{a'} Q(s',a',\\theta^-) - Q(s,a;\\theta)$ between $-1$ and $1$. This is not such an uncommon trick, it actually amounts to using an L2 loss for values of the loss between $-1$ and $1$ and an L1 loss outside of this domain.\n",
    "\n",
    "<div class=\"alert alert-warning\">\n",
    "    \n",
    "**Exercice:** modify you code above to include a target network (with $C$ in the order of $100$) and the clipping of the error term. Then run it to learn an efficient policy for CartPole (then for SwingUp).\n",
    "</div>"
   ]
  },
  {
   "cell_type": "code",
   "execution_count": 28,
   "metadata": {
    "scrolled": true
   },
   "outputs": [
    {
     "name": "stdout",
     "output_type": "stream",
     "text": [
      "0 10\n",
      "10 10\n",
      "20 10\n",
      "30 8\n",
      "40 9\n",
      "50 9\n",
      "60 10\n",
      "70 10\n",
      "80 9\n",
      "90 10\n",
      "100 14\n",
      "110 19\n",
      "120 10\n",
      "130 10\n",
      "140 10\n",
      "150 14\n",
      "160 14\n",
      "170 10\n",
      "180 11\n",
      "190 10\n"
     ]
    }
   ],
   "source": [
    "from copy import deepcopy\n",
    "C=1\n",
    "learning_rate = 0.001\n",
    "\n",
    "nb_ite = []\n",
    "max_steps = 500\n",
    "replay_memory_size = 1000000\n",
    "mini_batch_size = 20\n",
    "gamma = 0.95\n",
    "epsilon_max = 1\n",
    "epsilon_min =0.01\n",
    "epsilon_stop = 1000\n",
    "epsilon_step = (epsilon_max-epsilon_min)/epsilon_stop\n",
    "m = 200\n",
    "t = 0\n",
    "cartpole = gym.make('CartPole-v1')\n",
    "epsilon = epsilon_max\n",
    "replay_memory = MemoryBuffer(replay_memory_size,(4,),(1,))\n",
    "dqq = DQN\n",
    "\n",
    "dqq = dqq.float()\n",
    "dqfix = deepcopy(dqq).to(device)\n",
    "dqfix.load_state_dict(dqq.state_dict())\n",
    "\n",
    "loss_func = torch.nn.MSELoss(size_average=False, reduce=False)\n",
    "optimizer = torch.optim.RMSprop(dqq.parameters(), lr=learning_rate)\n",
    "device = torch.device(\"cuda\" if torch.cuda.is_available() else \"cpu\")\n",
    "criterion = torch.nn.MSELoss()\n",
    "for i in range(m):\n",
    "    x = cartpole.reset()\n",
    "    d = False \n",
    "    j = 0\n",
    "    while not d:\n",
    "        t+=1\n",
    "        j+=1\n",
    "        a = epsilon_greedy(dqq, x, epsilon,cartpole)\n",
    "        y,r,d,_ = cartpole.step(a)\n",
    "        #cartpole.render()    \n",
    "        replay_memory.append(x,a,r,y,d)\n",
    "        x=y\n",
    "        if t>mini_batch_size:\n",
    "            X,A,R,Y,D = replay_memory.minibatch(mini_batch_size)\n",
    "            QY = dqfix(torch.from_numpy(Y).float())\n",
    "            QYmax = QY.detach().numpy().max(1).reshape((mini_batch_size,1))\n",
    "            update = R + gamma * (1-D) * QYmax\n",
    "            QX = dqq(torch.from_numpy(X).float()).detach().numpy()\n",
    "            for l in range(mini_batch_size):\n",
    "                QX[l,A[l]] = update[l]\n",
    "            \n",
    "            \n",
    "            \n",
    "            \n",
    "            optimizer.zero_grad()\n",
    "            outputs = dqq(torch.from_numpy(X).float())\n",
    "            '''\n",
    "            error = loss_func(outputs, torch.from_numpy(QX).float())\n",
    "            error = torch.clamp(error, min=-1, max=1)**2\n",
    "            error = error.sum() \n",
    "            error.backward()\n",
    "            '''\n",
    "            loss = criterion(outputs, torch.from_numpy(QX).float())\n",
    "            optimizer.zero_grad()\n",
    "            loss.backward()\n",
    "            optimizer.step()\n",
    "            \n",
    "        if t%C==0:\n",
    "            dqfix.load_state_dict(dqq.state_dict())\n",
    "        \n",
    "        if d==True:\n",
    "            nb_ite.append(j)\n",
    "            if i%10==0:\n",
    "                print(str(i),j)\n",
    "            \n",
    "        \n",
    "    epsilon = max(epsilon_min, epsilon-epsilon_step)\n",
    "cartpole.close()\n",
    "    "
   ]
  },
  {
   "cell_type": "code",
   "execution_count": 27,
   "metadata": {},
   "outputs": [],
   "source": [
    "cartpole.close()"
   ]
  },
  {
   "cell_type": "code",
   "execution_count": 199,
   "metadata": {},
   "outputs": [
    {
     "name": "stderr",
     "output_type": "stream",
     "text": [
      "/home/robin/.pyenv/versions/anaconda3-5.3.1/lib/python3.7/site-packages/torch/serialization.py:292: UserWarning: Couldn't retrieve source code for container of type mynet. It won't be checked for correctness upon loading.\n",
      "  \"type \" + obj.__name__ + \". It won't be checked \"\n",
      "/home/robin/.pyenv/versions/anaconda3-5.3.1/lib/python3.7/site-packages/torch/serialization.py:292: UserWarning: Couldn't retrieve source code for container of type Sequential. It won't be checked for correctness upon loading.\n",
      "  \"type \" + obj.__name__ + \". It won't be checked \"\n",
      "/home/robin/.pyenv/versions/anaconda3-5.3.1/lib/python3.7/site-packages/torch/serialization.py:292: UserWarning: Couldn't retrieve source code for container of type Linear. It won't be checked for correctness upon loading.\n",
      "  \"type \" + obj.__name__ + \". It won't be checked \"\n",
      "/home/robin/.pyenv/versions/anaconda3-5.3.1/lib/python3.7/site-packages/torch/serialization.py:292: UserWarning: Couldn't retrieve source code for container of type ReLU. It won't be checked for correctness upon loading.\n",
      "  \"type \" + obj.__name__ + \". It won't be checked \"\n"
     ]
    }
   ],
   "source": [
    "torch.save(dqfix, 'models/q_cartpole.pt')\n",
    "\n",
    "# Load trained model that was train using the code above using a gpu on google colab during 30 epochs\n",
    "dqfix = torch.load('models/q_cartpole.pt')"
   ]
  },
  {
   "cell_type": "code",
   "execution_count": 203,
   "metadata": {},
   "outputs": [
    {
     "name": "stdout",
     "output_type": "stream",
     "text": [
      "8\n"
     ]
    }
   ],
   "source": [
    "x = cartpole.reset()\n",
    "cartpole.render()\n",
    "for i in range(2 * 10**5):\n",
    "     \n",
    "    a = epsilon_greedy(dqq, x, 0,cartpole)\n",
    "    y,r,d,_ = cartpole.step(a)\n",
    "    \n",
    "    cartpole.render()    \n",
    "    \n",
    "    \n",
    "    x=y\n",
    "    if d:\n",
    "        print(i)\n",
    "        break\n",
    "        \n",
    "cartpole.close()"
   ]
  },
  {
   "cell_type": "code",
   "execution_count": 126,
   "metadata": {},
   "outputs": [],
   "source": [
    "cartpole.close()"
   ]
  },
  {
   "cell_type": "code",
   "execution_count": null,
   "metadata": {},
   "outputs": [],
   "source": [
    "# YOUR IMPROVED DEEP Q LEARNING CODE"
   ]
  },
  {
   "cell_type": "markdown",
   "metadata": {},
   "source": [
    "# <a id=sec6></a>DQN on image-based tasks\n",
    "\n",
    "Now it's time to turn towards Pong. As you noted earlier, the frame information in Pong is not sufficient to define an MDP, but stacking several frames together allows to recover the Markov property.\n",
    "\n",
    "<div class=\"alert alert-warning\">\n",
    "    \n",
    "**Exercice:** modify your replay buffer to store stacks of 4 black-and-white images.\n",
    "</div>"
   ]
  },
  {
   "cell_type": "code",
   "execution_count": null,
   "metadata": {},
   "outputs": [],
   "source": [
    "# YOUR REPLAY BUFFER FOR PONG"
   ]
  },
  {
   "cell_type": "markdown",
   "metadata": {},
   "source": [
    "The two DQN papers ([Playing Atari with Deep Reinforcement Learning](https://arxiv.org/abs/1312.5602) and [Human-level control through deep reinforcement learning](https://deepmind.com/research/publications/human-level-control-through-deep-reinforcement-learning)) actually introduce two different neural network architectures.\n",
    "\n",
    "The 2013 paper uses this architecture:\n",
    "- input: $84\\times 84\\times 4$ image (the last 4 frames)\n",
    "- layer 1: Convolutions with 16 filters of size $8\\times 8$ and stride 4. The activation is a ReLU function.\n",
    "- layer 2: Convolutions with 32 filters of size $4\\times 4$ and stride 2. The activation is a ReLU function.\n",
    "- layer 3: Fully connected with 256 ReLU units\n",
    "- layer 4 (output): Fully connected with 2 linear units (one for each action's value)\n",
    "\n",
    "The 2015 paper \n",
    "- input: $84\\times 84\\times 4$ image (the last 4 frames)\n",
    "- layer 1: Convolutions with 32 filters of size $8\\times 8$ and stride 4. The activation is a ReLU function.\n",
    "- layer 2: Convolutions with 64 filters of size $4\\times 4$ and stride 2. The activation is a ReLU function.\n",
    "- layer 2: Convolutions with 64 filters of size $3\\times 3$ and stride 1. The activation is a ReLU function.\n",
    "- layer 3: Fully connected with 512 ReLU units\n",
    "- layer 4 (output): Fully connected with 2 linear units (one for each action's value)\n",
    "\n",
    "<div class=\"alert alert-warning\">\n",
    "    \n",
    "**Exercice:** Create the corresponding neural network and adapt your optimization code from the previous exercice to train on Pong (you can take $C$ much larger, in the order of $10000$).\n",
    "</div>\n",
    "Caveat: unless you have a GPU and a fair amount of time ahead of you, it is recommended to run this computation on a cloud computing service (or on a dediated machine)."
   ]
  },
  {
   "cell_type": "code",
   "execution_count": null,
   "metadata": {},
   "outputs": [],
   "source": [
    "# YOUR DQN CODE FOR PONG"
   ]
  },
  {
   "cell_type": "markdown",
   "metadata": {},
   "source": [
    "To give you an idea of the behavior of a trained agent, you can check the following videos."
   ]
  },
  {
   "cell_type": "code",
   "execution_count": null,
   "metadata": {},
   "outputs": [],
   "source": [
    "from IPython.display import YouTubeVideo\n",
    "YouTubeVideo(\"p88R2_3yWPA\")"
   ]
  },
  {
   "cell_type": "code",
   "execution_count": null,
   "metadata": {},
   "outputs": [],
   "source": [
    "YouTubeVideo(\"TmPfTpjtdgg\")"
   ]
  },
  {
   "cell_type": "markdown",
   "metadata": {},
   "source": [
    "# <a id=sec7></a>Going further\n",
    "\n",
    "A lot of contributions have built on the initial success of DQN. Among those, some are combined and discussed in the **[Rainbow: Combining Improvements in Deep Reinforcement Learning](https://arxiv.org/abs/1710.02298)** paper. We will simply summarize their key ideas here, by decreasing order of importance (according to the paper).\n",
    "\n",
    "- N-step returns. Use samples that accumulate several returns rather than the 1-step return of TD(0).\n",
    "- Prioritized experience replay. Inspired by the model-based Prioritized Sweeping approach, bias the distribution used to sample mini-batches in order to present high residual samples to the optimizer. This accelerates the convergence in $L_\\infty$ norm.\n",
    "- Distributional value functions. Instead of estimating $\\mathbb{E}(\\sum_t r_t)$, estimate the distribution of $\\sum_t r_t$ and iterate on it.\n",
    "- NoisyNet. Instead of an $\\epsilon$-greedy exploration strategy, introduce noise in the network's parameters to drive the exploration.\n",
    "- Dueling architecture. The neural network's architecture splits $Q$ into the estimation of a value $V(s)$ and an advantage $A(s,a)$ with shared first layers.\n",
    "- Double Q-learning. Q-learning is prone to over-estimation of the true optimal Q function (especially in high variance environments). Double Q-learning aims at compensating this weakness by introducing an under-estimation mechanism based on a second Q function.\n",
    "\n",
    "Beyond these improvements, new work is published each year that lead to better understanding of the interplay between Deep Learning and RL."
   ]
  },
  {
   "cell_type": "code",
   "execution_count": null,
   "metadata": {},
   "outputs": [],
   "source": []
  }
 ],
 "metadata": {
  "kernelspec": {
   "display_name": "Python 3",
   "language": "python",
   "name": "python3"
  },
  "language_info": {
   "codemirror_mode": {
    "name": "ipython",
    "version": 3
   },
   "file_extension": ".py",
   "mimetype": "text/x-python",
   "name": "python",
   "nbconvert_exporter": "python",
   "pygments_lexer": "ipython3",
   "version": "3.7.4"
  }
 },
 "nbformat": 4,
 "nbformat_minor": 2
}
